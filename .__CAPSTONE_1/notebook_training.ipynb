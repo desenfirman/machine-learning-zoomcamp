{
 "cells": [
  {
   "cell_type": "markdown",
   "metadata": {},
   "source": [
    "# Machine Learning Model Training: Predict if Today is Raining or Drizzle"
   ]
  },
  {
   "cell_type": "code",
   "execution_count": 3,
   "metadata": {},
   "outputs": [
    {
     "data": {
      "text/html": [
       "<div>\n",
       "<style scoped>\n",
       "    .dataframe tbody tr th:only-of-type {\n",
       "        vertical-align: middle;\n",
       "    }\n",
       "\n",
       "    .dataframe tbody tr th {\n",
       "        vertical-align: top;\n",
       "    }\n",
       "\n",
       "    .dataframe thead th {\n",
       "        text-align: right;\n",
       "    }\n",
       "</style>\n",
       "<table border=\"1\" class=\"dataframe\">\n",
       "  <thead>\n",
       "    <tr style=\"text-align: right;\">\n",
       "      <th></th>\n",
       "      <th>flag_precipitation_prev_1_day</th>\n",
       "      <th>flag_precipitation_prev_2_day</th>\n",
       "      <th>flag_precipitation_prev_3_day</th>\n",
       "      <th>flag_precipitation_prev_4_day</th>\n",
       "      <th>flag_precipitation_prev_5_day</th>\n",
       "      <th>flag_precipitation_prev_6_day</th>\n",
       "      <th>flag_precipitation_prev_7_day</th>\n",
       "      <th>avg_temp_prev_1_day</th>\n",
       "      <th>avg_temp_prev_2_day</th>\n",
       "      <th>avg_temp_prev_3_day</th>\n",
       "      <th>...</th>\n",
       "      <th>avg_wind_speed_prev_6_day</th>\n",
       "      <th>avg_wind_speed_prev_7_day</th>\n",
       "      <th>total_precipitation_prev_1_day</th>\n",
       "      <th>total_precipitation_prev_2_day</th>\n",
       "      <th>total_precipitation_prev_3_day</th>\n",
       "      <th>total_precipitation_prev_4_day</th>\n",
       "      <th>total_precipitation_prev_5_day</th>\n",
       "      <th>total_precipitation_prev_6_day</th>\n",
       "      <th>total_precipitation_prev_7_day</th>\n",
       "      <th>target</th>\n",
       "    </tr>\n",
       "  </thead>\n",
       "  <tbody>\n",
       "    <tr>\n",
       "      <th>0</th>\n",
       "      <td>I</td>\n",
       "      <td>I</td>\n",
       "      <td>A</td>\n",
       "      <td>I</td>\n",
       "      <td>A</td>\n",
       "      <td>B</td>\n",
       "      <td>I</td>\n",
       "      <td>86.3</td>\n",
       "      <td>84.3</td>\n",
       "      <td>83.6</td>\n",
       "      <td>...</td>\n",
       "      <td>0.5</td>\n",
       "      <td>1.3</td>\n",
       "      <td>0.00</td>\n",
       "      <td>0.00</td>\n",
       "      <td>0.08</td>\n",
       "      <td>0.00</td>\n",
       "      <td>0.31</td>\n",
       "      <td>0.26</td>\n",
       "      <td>0.00</td>\n",
       "      <td>0.0</td>\n",
       "    </tr>\n",
       "    <tr>\n",
       "      <th>1</th>\n",
       "      <td>I</td>\n",
       "      <td>I</td>\n",
       "      <td>OTHER</td>\n",
       "      <td>I</td>\n",
       "      <td>I</td>\n",
       "      <td>OTHER</td>\n",
       "      <td>I</td>\n",
       "      <td>84.7</td>\n",
       "      <td>84.5</td>\n",
       "      <td>83.9</td>\n",
       "      <td>...</td>\n",
       "      <td>1.0</td>\n",
       "      <td>3.9</td>\n",
       "      <td>0.00</td>\n",
       "      <td>0.00</td>\n",
       "      <td>99.99</td>\n",
       "      <td>0.00</td>\n",
       "      <td>0.00</td>\n",
       "      <td>99.99</td>\n",
       "      <td>0.00</td>\n",
       "      <td>0.0</td>\n",
       "    </tr>\n",
       "    <tr>\n",
       "      <th>2</th>\n",
       "      <td>B</td>\n",
       "      <td>C</td>\n",
       "      <td>I</td>\n",
       "      <td>A</td>\n",
       "      <td>OTHER</td>\n",
       "      <td>OTHER</td>\n",
       "      <td>B</td>\n",
       "      <td>83.9</td>\n",
       "      <td>85.7</td>\n",
       "      <td>85.4</td>\n",
       "      <td>...</td>\n",
       "      <td>2.7</td>\n",
       "      <td>3.9</td>\n",
       "      <td>0.00</td>\n",
       "      <td>0.00</td>\n",
       "      <td>0.00</td>\n",
       "      <td>0.08</td>\n",
       "      <td>99.99</td>\n",
       "      <td>99.99</td>\n",
       "      <td>0.02</td>\n",
       "      <td>0.0</td>\n",
       "    </tr>\n",
       "    <tr>\n",
       "      <th>3</th>\n",
       "      <td>I</td>\n",
       "      <td>OTHER</td>\n",
       "      <td>OTHER</td>\n",
       "      <td>I</td>\n",
       "      <td>I</td>\n",
       "      <td>I</td>\n",
       "      <td>OTHER</td>\n",
       "      <td>81.5</td>\n",
       "      <td>78.1</td>\n",
       "      <td>82.5</td>\n",
       "      <td>...</td>\n",
       "      <td>0.0</td>\n",
       "      <td>2.1</td>\n",
       "      <td>0.00</td>\n",
       "      <td>99.99</td>\n",
       "      <td>99.99</td>\n",
       "      <td>0.00</td>\n",
       "      <td>0.00</td>\n",
       "      <td>0.00</td>\n",
       "      <td>99.99</td>\n",
       "      <td>0.0</td>\n",
       "    </tr>\n",
       "    <tr>\n",
       "      <th>4</th>\n",
       "      <td>I</td>\n",
       "      <td>A</td>\n",
       "      <td>I</td>\n",
       "      <td>I</td>\n",
       "      <td>I</td>\n",
       "      <td>I</td>\n",
       "      <td>I</td>\n",
       "      <td>85.1</td>\n",
       "      <td>84.4</td>\n",
       "      <td>87.5</td>\n",
       "      <td>...</td>\n",
       "      <td>2.0</td>\n",
       "      <td>2.7</td>\n",
       "      <td>0.00</td>\n",
       "      <td>0.79</td>\n",
       "      <td>0.00</td>\n",
       "      <td>0.00</td>\n",
       "      <td>0.00</td>\n",
       "      <td>0.00</td>\n",
       "      <td>0.00</td>\n",
       "      <td>0.0</td>\n",
       "    </tr>\n",
       "    <tr>\n",
       "      <th>...</th>\n",
       "      <td>...</td>\n",
       "      <td>...</td>\n",
       "      <td>...</td>\n",
       "      <td>...</td>\n",
       "      <td>...</td>\n",
       "      <td>...</td>\n",
       "      <td>...</td>\n",
       "      <td>...</td>\n",
       "      <td>...</td>\n",
       "      <td>...</td>\n",
       "      <td>...</td>\n",
       "      <td>...</td>\n",
       "      <td>...</td>\n",
       "      <td>...</td>\n",
       "      <td>...</td>\n",
       "      <td>...</td>\n",
       "      <td>...</td>\n",
       "      <td>...</td>\n",
       "      <td>...</td>\n",
       "      <td>...</td>\n",
       "      <td>...</td>\n",
       "    </tr>\n",
       "    <tr>\n",
       "      <th>2851</th>\n",
       "      <td>I</td>\n",
       "      <td>I</td>\n",
       "      <td>I</td>\n",
       "      <td>B</td>\n",
       "      <td>B</td>\n",
       "      <td>I</td>\n",
       "      <td>A</td>\n",
       "      <td>85.2</td>\n",
       "      <td>82.7</td>\n",
       "      <td>84.4</td>\n",
       "      <td>...</td>\n",
       "      <td>1.9</td>\n",
       "      <td>3.1</td>\n",
       "      <td>0.00</td>\n",
       "      <td>0.00</td>\n",
       "      <td>0.00</td>\n",
       "      <td>0.71</td>\n",
       "      <td>1.06</td>\n",
       "      <td>0.00</td>\n",
       "      <td>0.12</td>\n",
       "      <td>1.0</td>\n",
       "    </tr>\n",
       "    <tr>\n",
       "      <th>2852</th>\n",
       "      <td>A</td>\n",
       "      <td>I</td>\n",
       "      <td>I</td>\n",
       "      <td>I</td>\n",
       "      <td>B</td>\n",
       "      <td>B</td>\n",
       "      <td>I</td>\n",
       "      <td>85.3</td>\n",
       "      <td>85.2</td>\n",
       "      <td>82.7</td>\n",
       "      <td>...</td>\n",
       "      <td>2.6</td>\n",
       "      <td>1.9</td>\n",
       "      <td>0.47</td>\n",
       "      <td>0.00</td>\n",
       "      <td>0.00</td>\n",
       "      <td>0.00</td>\n",
       "      <td>0.71</td>\n",
       "      <td>1.06</td>\n",
       "      <td>0.00</td>\n",
       "      <td>1.0</td>\n",
       "    </tr>\n",
       "    <tr>\n",
       "      <th>2853</th>\n",
       "      <td>OTHER</td>\n",
       "      <td>A</td>\n",
       "      <td>I</td>\n",
       "      <td>I</td>\n",
       "      <td>I</td>\n",
       "      <td>B</td>\n",
       "      <td>B</td>\n",
       "      <td>83.0</td>\n",
       "      <td>85.3</td>\n",
       "      <td>85.2</td>\n",
       "      <td>...</td>\n",
       "      <td>0.9</td>\n",
       "      <td>2.6</td>\n",
       "      <td>99.99</td>\n",
       "      <td>0.47</td>\n",
       "      <td>0.00</td>\n",
       "      <td>0.00</td>\n",
       "      <td>0.00</td>\n",
       "      <td>0.71</td>\n",
       "      <td>1.06</td>\n",
       "      <td>1.0</td>\n",
       "    </tr>\n",
       "    <tr>\n",
       "      <th>2854</th>\n",
       "      <td>I</td>\n",
       "      <td>A</td>\n",
       "      <td>OTHER</td>\n",
       "      <td>A</td>\n",
       "      <td>I</td>\n",
       "      <td>I</td>\n",
       "      <td>I</td>\n",
       "      <td>85.0</td>\n",
       "      <td>79.9</td>\n",
       "      <td>83.0</td>\n",
       "      <td>...</td>\n",
       "      <td>2.5</td>\n",
       "      <td>2.5</td>\n",
       "      <td>0.00</td>\n",
       "      <td>0.04</td>\n",
       "      <td>99.99</td>\n",
       "      <td>0.47</td>\n",
       "      <td>0.00</td>\n",
       "      <td>0.00</td>\n",
       "      <td>0.00</td>\n",
       "      <td>1.0</td>\n",
       "    </tr>\n",
       "    <tr>\n",
       "      <th>2855</th>\n",
       "      <td>OTHER</td>\n",
       "      <td>I</td>\n",
       "      <td>A</td>\n",
       "      <td>OTHER</td>\n",
       "      <td>A</td>\n",
       "      <td>I</td>\n",
       "      <td>I</td>\n",
       "      <td>83.8</td>\n",
       "      <td>85.0</td>\n",
       "      <td>79.9</td>\n",
       "      <td>...</td>\n",
       "      <td>0.4</td>\n",
       "      <td>2.5</td>\n",
       "      <td>99.99</td>\n",
       "      <td>0.00</td>\n",
       "      <td>0.04</td>\n",
       "      <td>99.99</td>\n",
       "      <td>0.47</td>\n",
       "      <td>0.00</td>\n",
       "      <td>0.00</td>\n",
       "      <td>1.0</td>\n",
       "    </tr>\n",
       "  </tbody>\n",
       "</table>\n",
       "<p>2856 rows × 43 columns</p>\n",
       "</div>"
      ],
      "text/plain": [
       "     flag_precipitation_prev_1_day flag_precipitation_prev_2_day  \\\n",
       "0                                I                             I   \n",
       "1                                I                             I   \n",
       "2                                B                             C   \n",
       "3                                I                         OTHER   \n",
       "4                                I                             A   \n",
       "...                            ...                           ...   \n",
       "2851                             I                             I   \n",
       "2852                             A                             I   \n",
       "2853                         OTHER                             A   \n",
       "2854                             I                             A   \n",
       "2855                         OTHER                             I   \n",
       "\n",
       "     flag_precipitation_prev_3_day flag_precipitation_prev_4_day  \\\n",
       "0                                A                             I   \n",
       "1                            OTHER                             I   \n",
       "2                                I                             A   \n",
       "3                            OTHER                             I   \n",
       "4                                I                             I   \n",
       "...                            ...                           ...   \n",
       "2851                             I                             B   \n",
       "2852                             I                             I   \n",
       "2853                             I                             I   \n",
       "2854                         OTHER                             A   \n",
       "2855                             A                         OTHER   \n",
       "\n",
       "     flag_precipitation_prev_5_day flag_precipitation_prev_6_day  \\\n",
       "0                                A                             B   \n",
       "1                                I                         OTHER   \n",
       "2                            OTHER                         OTHER   \n",
       "3                                I                             I   \n",
       "4                                I                             I   \n",
       "...                            ...                           ...   \n",
       "2851                             B                             I   \n",
       "2852                             B                             B   \n",
       "2853                             I                             B   \n",
       "2854                             I                             I   \n",
       "2855                             A                             I   \n",
       "\n",
       "     flag_precipitation_prev_7_day  avg_temp_prev_1_day  avg_temp_prev_2_day  \\\n",
       "0                                I                 86.3                 84.3   \n",
       "1                                I                 84.7                 84.5   \n",
       "2                                B                 83.9                 85.7   \n",
       "3                            OTHER                 81.5                 78.1   \n",
       "4                                I                 85.1                 84.4   \n",
       "...                            ...                  ...                  ...   \n",
       "2851                             A                 85.2                 82.7   \n",
       "2852                             I                 85.3                 85.2   \n",
       "2853                             B                 83.0                 85.3   \n",
       "2854                             I                 85.0                 79.9   \n",
       "2855                             I                 83.8                 85.0   \n",
       "\n",
       "      avg_temp_prev_3_day  ...  avg_wind_speed_prev_6_day  \\\n",
       "0                    83.6  ...                        0.5   \n",
       "1                    83.9  ...                        1.0   \n",
       "2                    85.4  ...                        2.7   \n",
       "3                    82.5  ...                        0.0   \n",
       "4                    87.5  ...                        2.0   \n",
       "...                   ...  ...                        ...   \n",
       "2851                 84.4  ...                        1.9   \n",
       "2852                 82.7  ...                        2.6   \n",
       "2853                 85.2  ...                        0.9   \n",
       "2854                 83.0  ...                        2.5   \n",
       "2855                 79.9  ...                        0.4   \n",
       "\n",
       "      avg_wind_speed_prev_7_day  total_precipitation_prev_1_day  \\\n",
       "0                           1.3                            0.00   \n",
       "1                           3.9                            0.00   \n",
       "2                           3.9                            0.00   \n",
       "3                           2.1                            0.00   \n",
       "4                           2.7                            0.00   \n",
       "...                         ...                             ...   \n",
       "2851                        3.1                            0.00   \n",
       "2852                        1.9                            0.47   \n",
       "2853                        2.6                           99.99   \n",
       "2854                        2.5                            0.00   \n",
       "2855                        2.5                           99.99   \n",
       "\n",
       "      total_precipitation_prev_2_day  total_precipitation_prev_3_day  \\\n",
       "0                               0.00                            0.08   \n",
       "1                               0.00                           99.99   \n",
       "2                               0.00                            0.00   \n",
       "3                              99.99                           99.99   \n",
       "4                               0.79                            0.00   \n",
       "...                              ...                             ...   \n",
       "2851                            0.00                            0.00   \n",
       "2852                            0.00                            0.00   \n",
       "2853                            0.47                            0.00   \n",
       "2854                            0.04                           99.99   \n",
       "2855                            0.00                            0.04   \n",
       "\n",
       "      total_precipitation_prev_4_day  total_precipitation_prev_5_day  \\\n",
       "0                               0.00                            0.31   \n",
       "1                               0.00                            0.00   \n",
       "2                               0.08                           99.99   \n",
       "3                               0.00                            0.00   \n",
       "4                               0.00                            0.00   \n",
       "...                              ...                             ...   \n",
       "2851                            0.71                            1.06   \n",
       "2852                            0.00                            0.71   \n",
       "2853                            0.00                            0.00   \n",
       "2854                            0.47                            0.00   \n",
       "2855                           99.99                            0.47   \n",
       "\n",
       "      total_precipitation_prev_6_day  total_precipitation_prev_7_day  target  \n",
       "0                               0.26                            0.00     0.0  \n",
       "1                              99.99                            0.00     0.0  \n",
       "2                              99.99                            0.02     0.0  \n",
       "3                               0.00                           99.99     0.0  \n",
       "4                               0.00                            0.00     0.0  \n",
       "...                              ...                             ...     ...  \n",
       "2851                            0.00                            0.12     1.0  \n",
       "2852                            1.06                            0.00     1.0  \n",
       "2853                            0.71                            1.06     1.0  \n",
       "2854                            0.00                            0.00     1.0  \n",
       "2855                            0.00                            0.00     1.0  \n",
       "\n",
       "[2856 rows x 43 columns]"
      ]
     },
     "execution_count": 3,
     "metadata": {},
     "output_type": "execute_result"
    }
   ],
   "source": [
    "import pandas as pd\n",
    "df_ready_to_used = pd.read_csv('./data/gsod_jakarta_eda_and_preprocessed.csv').drop(columns=['date'])\n",
    "df_ready_to_used"
   ]
  },
  {
   "cell_type": "markdown",
   "metadata": {},
   "source": [
    "## Split Train and Test\n",
    "\n",
    "We will use the ratio of training/validation/test = **60/20/20**"
   ]
  },
  {
   "cell_type": "code",
   "execution_count": 4,
   "metadata": {},
   "outputs": [],
   "source": [
    "from sklearn.model_selection import train_test_split\n",
    "from sklearn.feature_extraction import DictVectorizer\n",
    "\n",
    "df_full_train, df_test = train_test_split(df_ready_to_used, test_size=0.2, random_state=42)\n",
    "df_train, df_val = train_test_split(df_full_train, test_size=0.2, random_state=42)\n",
    "\n",
    "df_train = df_train.reset_index(drop=True)\n",
    "df_val = df_val.reset_index(drop=True)\n",
    "df_test = df_test.reset_index(drop=True)\n",
    "\n",
    "y_train = df_train.target.values\n",
    "y_val = df_val.target.values\n",
    "y_test = df_test.target.values\n",
    "\n",
    "del df_train['target']\n",
    "del df_val['target']\n",
    "del df_test['target']\n",
    "\n",
    "dv = DictVectorizer(sparse=False)\n",
    "\n",
    "train_dict = df_train.to_dict(orient='records')\n",
    "X_train = dv.fit_transform(train_dict)\n",
    "\n",
    "val_dict = df_val.to_dict(orient='records')\n",
    "X_val = dv.transform(val_dict)\n",
    "\n",
    "test_dict = df_test.to_dict(orient='records')\n",
    "X_test = dv.transform(test_dict)"
   ]
  },
  {
   "cell_type": "markdown",
   "metadata": {},
   "source": [
    "## Train Untuned Version of SGDClassifier"
   ]
  },
  {
   "cell_type": "code",
   "execution_count": 91,
   "metadata": {},
   "outputs": [
    {
     "data": {
      "text/html": [
       "<style>#sk-container-id-31 {color: black;}#sk-container-id-31 pre{padding: 0;}#sk-container-id-31 div.sk-toggleable {background-color: white;}#sk-container-id-31 label.sk-toggleable__label {cursor: pointer;display: block;width: 100%;margin-bottom: 0;padding: 0.3em;box-sizing: border-box;text-align: center;}#sk-container-id-31 label.sk-toggleable__label-arrow:before {content: \"▸\";float: left;margin-right: 0.25em;color: #696969;}#sk-container-id-31 label.sk-toggleable__label-arrow:hover:before {color: black;}#sk-container-id-31 div.sk-estimator:hover label.sk-toggleable__label-arrow:before {color: black;}#sk-container-id-31 div.sk-toggleable__content {max-height: 0;max-width: 0;overflow: hidden;text-align: left;background-color: #f0f8ff;}#sk-container-id-31 div.sk-toggleable__content pre {margin: 0.2em;color: black;border-radius: 0.25em;background-color: #f0f8ff;}#sk-container-id-31 input.sk-toggleable__control:checked~div.sk-toggleable__content {max-height: 200px;max-width: 100%;overflow: auto;}#sk-container-id-31 input.sk-toggleable__control:checked~label.sk-toggleable__label-arrow:before {content: \"▾\";}#sk-container-id-31 div.sk-estimator input.sk-toggleable__control:checked~label.sk-toggleable__label {background-color: #d4ebff;}#sk-container-id-31 div.sk-label input.sk-toggleable__control:checked~label.sk-toggleable__label {background-color: #d4ebff;}#sk-container-id-31 input.sk-hidden--visually {border: 0;clip: rect(1px 1px 1px 1px);clip: rect(1px, 1px, 1px, 1px);height: 1px;margin: -1px;overflow: hidden;padding: 0;position: absolute;width: 1px;}#sk-container-id-31 div.sk-estimator {font-family: monospace;background-color: #f0f8ff;border: 1px dotted black;border-radius: 0.25em;box-sizing: border-box;margin-bottom: 0.5em;}#sk-container-id-31 div.sk-estimator:hover {background-color: #d4ebff;}#sk-container-id-31 div.sk-parallel-item::after {content: \"\";width: 100%;border-bottom: 1px solid gray;flex-grow: 1;}#sk-container-id-31 div.sk-label:hover label.sk-toggleable__label {background-color: #d4ebff;}#sk-container-id-31 div.sk-serial::before {content: \"\";position: absolute;border-left: 1px solid gray;box-sizing: border-box;top: 0;bottom: 0;left: 50%;z-index: 0;}#sk-container-id-31 div.sk-serial {display: flex;flex-direction: column;align-items: center;background-color: white;padding-right: 0.2em;padding-left: 0.2em;position: relative;}#sk-container-id-31 div.sk-item {position: relative;z-index: 1;}#sk-container-id-31 div.sk-parallel {display: flex;align-items: stretch;justify-content: center;background-color: white;position: relative;}#sk-container-id-31 div.sk-item::before, #sk-container-id-31 div.sk-parallel-item::before {content: \"\";position: absolute;border-left: 1px solid gray;box-sizing: border-box;top: 0;bottom: 0;left: 50%;z-index: -1;}#sk-container-id-31 div.sk-parallel-item {display: flex;flex-direction: column;z-index: 1;position: relative;background-color: white;}#sk-container-id-31 div.sk-parallel-item:first-child::after {align-self: flex-end;width: 50%;}#sk-container-id-31 div.sk-parallel-item:last-child::after {align-self: flex-start;width: 50%;}#sk-container-id-31 div.sk-parallel-item:only-child::after {width: 0;}#sk-container-id-31 div.sk-dashed-wrapped {border: 1px dashed gray;margin: 0 0.4em 0.5em 0.4em;box-sizing: border-box;padding-bottom: 0.4em;background-color: white;}#sk-container-id-31 div.sk-label label {font-family: monospace;font-weight: bold;display: inline-block;line-height: 1.2em;}#sk-container-id-31 div.sk-label-container {text-align: center;}#sk-container-id-31 div.sk-container {/* jupyter's `normalize.less` sets `[hidden] { display: none; }` but bootstrap.min.css set `[hidden] { display: none !important; }` so we also need the `!important` here to be able to override the default hidden behavior on the sphinx rendered scikit-learn.org. See: https://github.com/scikit-learn/scikit-learn/issues/21755 */display: inline-block !important;position: relative;}#sk-container-id-31 div.sk-text-repr-fallback {display: none;}</style><div id=\"sk-container-id-31\" class=\"sk-top-container\"><div class=\"sk-text-repr-fallback\"><pre>SGDClassifier(loss=&#x27;log_loss&#x27;, random_state=42)</pre><b>In a Jupyter environment, please rerun this cell to show the HTML representation or trust the notebook. <br />On GitHub, the HTML representation is unable to render, please try loading this page with nbviewer.org.</b></div><div class=\"sk-container\" hidden><div class=\"sk-item\"><div class=\"sk-estimator sk-toggleable\"><input class=\"sk-toggleable__control sk-hidden--visually\" id=\"sk-estimator-id-59\" type=\"checkbox\" checked><label for=\"sk-estimator-id-59\" class=\"sk-toggleable__label sk-toggleable__label-arrow\">SGDClassifier</label><div class=\"sk-toggleable__content\"><pre>SGDClassifier(loss=&#x27;log_loss&#x27;, random_state=42)</pre></div></div></div></div></div>"
      ],
      "text/plain": [
       "SGDClassifier(loss='log_loss', random_state=42)"
      ]
     },
     "execution_count": 91,
     "metadata": {},
     "output_type": "execute_result"
    }
   ],
   "source": [
    "from sklearn.linear_model import SGDClassifier\n",
    "from sklearn.metrics import roc_auc_score\n",
    "\n",
    "model = SGDClassifier(loss='log_loss', random_state=42)\n",
    "model.fit(X_train, y_train)\n"
   ]
  },
  {
   "cell_type": "code",
   "execution_count": 92,
   "metadata": {},
   "outputs": [
    {
     "data": {
      "text/plain": [
       "{'alpha': 0.0001,\n",
       " 'average': False,\n",
       " 'class_weight': None,\n",
       " 'early_stopping': False,\n",
       " 'epsilon': 0.1,\n",
       " 'eta0': 0.0,\n",
       " 'fit_intercept': True,\n",
       " 'l1_ratio': 0.15,\n",
       " 'learning_rate': 'optimal',\n",
       " 'loss': 'log_loss',\n",
       " 'max_iter': 1000,\n",
       " 'n_iter_no_change': 5,\n",
       " 'n_jobs': None,\n",
       " 'penalty': 'l2',\n",
       " 'power_t': 0.5,\n",
       " 'random_state': 42,\n",
       " 'shuffle': True,\n",
       " 'tol': 0.001,\n",
       " 'validation_fraction': 0.1,\n",
       " 'verbose': 0,\n",
       " 'warm_start': False}"
      ]
     },
     "execution_count": 92,
     "metadata": {},
     "output_type": "execute_result"
    }
   ],
   "source": [
    "model.get_params()"
   ]
  },
  {
   "cell_type": "code",
   "execution_count": 93,
   "metadata": {},
   "outputs": [
    {
     "name": "stdout",
     "output_type": "stream",
     "text": [
      "Score on training set: 0.5155613345477207\n"
     ]
    }
   ],
   "source": [
    "y_pred = model.predict_proba(X_train)[:, 1]\n",
    "print(f\"Score on training set: {roc_auc_score(y_train, y_pred)}\")"
   ]
  },
  {
   "cell_type": "code",
   "execution_count": 94,
   "metadata": {},
   "outputs": [
    {
     "name": "stdout",
     "output_type": "stream",
     "text": [
      "Score on validation set: 0.5254302249817945\n"
     ]
    }
   ],
   "source": [
    "y_pred = model.predict_proba(X_val)[:, 1]\n",
    "print(f\"Score on validation set: {roc_auc_score(y_val, y_pred)}\")"
   ]
  },
  {
   "cell_type": "code",
   "execution_count": 95,
   "metadata": {},
   "outputs": [
    {
     "name": "stdout",
     "output_type": "stream",
     "text": [
      "Score on test set: 0.5034231921266581\n"
     ]
    }
   ],
   "source": [
    "y_pred = model.predict_proba(X_test)[:, 1]\n",
    "print(f\"Score on test set: {roc_auc_score(y_test, y_pred)}\")"
   ]
  },
  {
   "cell_type": "markdown",
   "metadata": {},
   "source": [
    "## Train a Tuned Version of SGDClassfier"
   ]
  },
  {
   "cell_type": "code",
   "execution_count": 48,
   "metadata": {},
   "outputs": [
    {
     "name": "stdout",
     "output_type": "stream",
     "text": [
      "Fitting 5 folds for each of 10 candidates, totalling 50 fits\n",
      "[CV 1/5] END alpha=0.001, eta0=1e-05, learning_rate=adaptive, max_iter=100, penalty=l1, tol=0.001;, score=0.665 total time=   0.0s\n",
      "[CV 3/5] END alpha=0.001, eta0=1e-05, learning_rate=adaptive, max_iter=100, penalty=l1, tol=0.001;, score=0.649 total time=   0.1s\n",
      "[CV 1/5] END alpha=0.001, eta0=0.01, learning_rate=optimal, max_iter=1000, penalty=l2, tol=0.01;, score=0.666 total time=   0.0s\n",
      "[CV 2/5] END alpha=0.001, eta0=1e-05, learning_rate=adaptive, max_iter=100, penalty=l1, tol=0.001;, score=0.647 total time=   0.1s\n",
      "[CV 4/5] END alpha=0.001, eta0=1e-05, learning_rate=adaptive, max_iter=100, penalty=l1, tol=0.001;, score=0.684 total time=   0.1s\n",
      "[CV 2/5] END alpha=0.001, eta0=0.01, learning_rate=optimal, max_iter=1000, penalty=l2, tol=0.01;, score=0.653 total time=   0.0s\n",
      "[CV 3/5] END alpha=0.001, eta0=0.01, learning_rate=optimal, max_iter=1000, penalty=l2, tol=0.01;, score=0.635 total time=   0.0s\n",
      "[CV 5/5] END alpha=0.001, eta0=1e-05, learning_rate=adaptive, max_iter=100, penalty=l1, tol=0.001;, score=0.648 total time=   0.1s\n",
      "[CV 5/5] END alpha=0.001, eta0=0.01, learning_rate=optimal, max_iter=1000, penalty=l2, tol=0.01;, score=0.637 total time=   0.0s\n",
      "[CV 4/5] END alpha=0.001, eta0=0.01, learning_rate=optimal, max_iter=1000, penalty=l2, tol=0.01;, score=0.689 total time=   0.0s[CV 1/5] END alpha=0.0001, eta0=0.001, learning_rate=invscaling, max_iter=1000, penalty=None, tol=1e-05;, score=0.663 total time=   0.0s\n",
      "\n",
      "[CV 3/5] END alpha=0.0001, eta0=0.001, learning_rate=invscaling, max_iter=1000, penalty=None, tol=1e-05;, score=0.635 total time=   0.0s\n",
      "[CV 1/5] END alpha=0.001, eta0=0.001, learning_rate=constant, max_iter=100, penalty=None, tol=0.001;, score=0.631 total time=   0.0s\n",
      "[CV 2/5] END alpha=0.001, eta0=0.001, learning_rate=constant, max_iter=100, penalty=None, tol=0.001;, score=0.634 total time=   0.0s\n",
      "[CV 2/5] END alpha=0.0001, eta0=0.001, learning_rate=invscaling, max_iter=1000, penalty=None, tol=1e-05;, score=0.653 total time=   0.0s\n",
      "[CV 4/5] END alpha=0.0001, eta0=0.001, learning_rate=invscaling, max_iter=1000, penalty=None, tol=1e-05;, score=0.694 total time=   0.0s\n",
      "[CV 4/5] END alpha=0.001, eta0=0.001, learning_rate=constant, max_iter=100, penalty=None, tol=0.001;, score=0.629 total time=   0.0s\n",
      "[CV 5/5] END alpha=0.0001, eta0=0.001, learning_rate=invscaling, max_iter=1000, penalty=None, tol=1e-05;, score=0.648 total time=   0.1s\n",
      "[CV 3/5] END alpha=0.001, eta0=0.001, learning_rate=constant, max_iter=100, penalty=None, tol=0.001;, score=0.605 total time=   0.0s\n",
      "[CV 5/5] END alpha=0.001, eta0=0.001, learning_rate=constant, max_iter=100, penalty=None, tol=0.001;, score=0.623 total time=   0.0s\n",
      "[CV 1/5] END alpha=0.001, eta0=1e-05, learning_rate=adaptive, max_iter=100, penalty=elasticnet, tol=0.001;, score=0.655 total time=   0.1s\n",
      "[CV 4/5] END alpha=0.001, eta0=1e-05, learning_rate=invscaling, max_iter=100, penalty=l1, tol=0.01;, score=0.663 total time=   0.0s\n"
     ]
    },
    {
     "name": "stdout",
     "output_type": "stream",
     "text": [
      "[CV 5/5] END alpha=0.001, eta0=1e-05, learning_rate=adaptive, max_iter=100, penalty=elasticnet, tol=0.001;, score=0.656 total time=   0.1s\n",
      "[CV 5/5] END alpha=0.01, eta0=0.0001, learning_rate=optimal, max_iter=1000, penalty=None, tol=1e-05;, score=0.648 total time=   0.0s\n",
      "[CV 2/5] END alpha=0.001, eta0=1e-05, learning_rate=invscaling, max_iter=100, penalty=l1, tol=0.01;, score=0.649 total time=   0.1s\n",
      "[CV 3/5] END alpha=0.01, eta0=0.0001, learning_rate=optimal, max_iter=1000, penalty=None, tol=1e-05;, score=0.667 total time=   0.0s\n",
      "[CV 3/5] END alpha=0.001, eta0=1e-05, learning_rate=adaptive, max_iter=100, penalty=elasticnet, tol=0.001;, score=0.656 total time=   0.1s\n",
      "[CV 1/5] END alpha=0.001, eta0=1e-05, learning_rate=constant, max_iter=1000, penalty=l1, tol=1e-05;, score=0.634 total time=   0.0s\n",
      "[CV 5/5] END alpha=0.001, eta0=1e-05, learning_rate=invscaling, max_iter=100, penalty=l1, tol=0.01;, score=0.639 total time=   0.0s\n",
      "[CV 3/5] END alpha=0.001, eta0=1e-05, learning_rate=invscaling, max_iter=100, penalty=l1, tol=0.01;, score=0.649 total time=   0.0s\n",
      "[CV 1/5] END alpha=0.001, eta0=1e-05, learning_rate=invscaling, max_iter=100, penalty=l1, tol=0.01;, score=0.666 total time=   0.1s\n",
      "[CV 4/5] END alpha=0.01, eta0=0.0001, learning_rate=optimal, max_iter=1000, penalty=None, tol=1e-05;, score=0.692 total time=   0.0s\n",
      "[CV 2/5] END alpha=0.001, eta0=1e-05, learning_rate=constant, max_iter=1000, penalty=l1, tol=1e-05;, score=0.635 total time=   0.0s\n",
      "[CV 4/5] END alpha=0.001, eta0=1e-05, learning_rate=constant, max_iter=1000, penalty=l1, tol=1e-05;, score=0.642 total time=   0.0s\n",
      "[CV 5/5] END alpha=0.001, eta0=1e-05, learning_rate=constant, max_iter=1000, penalty=l1, tol=1e-05;, score=0.627 total time=   0.0s\n",
      "[CV 4/5] END alpha=0.001, eta0=1e-05, learning_rate=adaptive, max_iter=100, penalty=elasticnet, tol=0.001;, score=0.671 total time=   0.1s\n",
      "[CV 3/5] END alpha=0.001, eta0=1e-05, learning_rate=constant, max_iter=1000, penalty=l1, tol=1e-05;, score=0.644 total time=   0.0s\n",
      "[CV 1/5] END alpha=0.01, eta0=1e-05, learning_rate=adaptive, max_iter=100, penalty=l1, tol=0.001;, score=0.678 total time=   0.1s\n",
      "[CV 3/5] END alpha=0.01, eta0=1e-05, learning_rate=adaptive, max_iter=100, penalty=l1, tol=0.001;, score=0.662 total time=   0.1s\n",
      "[CV 5/5] END alpha=0.01, eta0=1e-05, learning_rate=adaptive, max_iter=100, penalty=l1, tol=0.001;, score=0.656 total time=   0.1s\n",
      "[CV 2/5] END alpha=0.001, eta0=1e-05, learning_rate=adaptive, max_iter=100, penalty=elasticnet, tol=0.001;, score=0.656 total time=   0.2s\n",
      "[CV 5/5] END alpha=1e-05, eta0=1e-05, learning_rate=adaptive, max_iter=1000, penalty=elasticnet, tol=0.0001;, score=0.646 total time=   0.1s\n",
      "[CV 2/5] END alpha=1e-05, eta0=1e-05, learning_rate=adaptive, max_iter=1000, penalty=elasticnet, tol=0.0001;, score=0.657 total time=   0.1s\n",
      "[CV 4/5] END alpha=1e-05, eta0=1e-05, learning_rate=adaptive, max_iter=1000, penalty=elasticnet, tol=0.0001;, score=0.726 total time=   0.1s\n",
      "[CV 4/5] END alpha=0.01, eta0=1e-05, learning_rate=adaptive, max_iter=100, penalty=l1, tol=0.001;, score=0.701 total time=   0.1s\n",
      "[CV 2/5] END alpha=0.01, eta0=1e-05, learning_rate=adaptive, max_iter=100, penalty=l1, tol=0.001;, score=0.671 total time=   0.1s\n",
      "[CV 1/5] END alpha=1e-05, eta0=1e-05, learning_rate=adaptive, max_iter=1000, penalty=elasticnet, tol=0.0001;, score=0.655 total time=   0.0s\n",
      "[CV 3/5] END alpha=1e-05, eta0=1e-05, learning_rate=adaptive, max_iter=1000, penalty=elasticnet, tol=0.0001;, score=0.653 total time=   0.0s\n"
     ]
    },
    {
     "name": "stderr",
     "output_type": "stream",
     "text": [
      "/opt/conda/envs/ml-zoomcamp/lib/python3.9/site-packages/sklearn/linear_model/_stochastic_gradient.py:713: ConvergenceWarning: Maximum number of iteration reached before convergence. Consider increasing max_iter to improve the fit.\n",
      "  warnings.warn(\n"
     ]
    },
    {
     "name": "stdout",
     "output_type": "stream",
     "text": [
      "[CV 1/5] END alpha=0.01, eta0=0.0001, learning_rate=optimal, max_iter=1000, penalty=None, tol=1e-05;, score=0.620 total time=   0.5s\n",
      "[CV 2/5] END alpha=0.01, eta0=0.0001, learning_rate=optimal, max_iter=1000, penalty=None, tol=1e-05;, score=0.524 total time=   0.4s\n"
     ]
    },
    {
     "name": "stderr",
     "output_type": "stream",
     "text": [
      "/opt/conda/envs/ml-zoomcamp/lib/python3.9/site-packages/sklearn/linear_model/_stochastic_gradient.py:713: ConvergenceWarning: Maximum number of iteration reached before convergence. Consider increasing max_iter to improve the fit.\n",
      "  warnings.warn(\n"
     ]
    },
    {
     "data": {
      "text/html": [
       "<style>#sk-container-id-18 {color: black;}#sk-container-id-18 pre{padding: 0;}#sk-container-id-18 div.sk-toggleable {background-color: white;}#sk-container-id-18 label.sk-toggleable__label {cursor: pointer;display: block;width: 100%;margin-bottom: 0;padding: 0.3em;box-sizing: border-box;text-align: center;}#sk-container-id-18 label.sk-toggleable__label-arrow:before {content: \"▸\";float: left;margin-right: 0.25em;color: #696969;}#sk-container-id-18 label.sk-toggleable__label-arrow:hover:before {color: black;}#sk-container-id-18 div.sk-estimator:hover label.sk-toggleable__label-arrow:before {color: black;}#sk-container-id-18 div.sk-toggleable__content {max-height: 0;max-width: 0;overflow: hidden;text-align: left;background-color: #f0f8ff;}#sk-container-id-18 div.sk-toggleable__content pre {margin: 0.2em;color: black;border-radius: 0.25em;background-color: #f0f8ff;}#sk-container-id-18 input.sk-toggleable__control:checked~div.sk-toggleable__content {max-height: 200px;max-width: 100%;overflow: auto;}#sk-container-id-18 input.sk-toggleable__control:checked~label.sk-toggleable__label-arrow:before {content: \"▾\";}#sk-container-id-18 div.sk-estimator input.sk-toggleable__control:checked~label.sk-toggleable__label {background-color: #d4ebff;}#sk-container-id-18 div.sk-label input.sk-toggleable__control:checked~label.sk-toggleable__label {background-color: #d4ebff;}#sk-container-id-18 input.sk-hidden--visually {border: 0;clip: rect(1px 1px 1px 1px);clip: rect(1px, 1px, 1px, 1px);height: 1px;margin: -1px;overflow: hidden;padding: 0;position: absolute;width: 1px;}#sk-container-id-18 div.sk-estimator {font-family: monospace;background-color: #f0f8ff;border: 1px dotted black;border-radius: 0.25em;box-sizing: border-box;margin-bottom: 0.5em;}#sk-container-id-18 div.sk-estimator:hover {background-color: #d4ebff;}#sk-container-id-18 div.sk-parallel-item::after {content: \"\";width: 100%;border-bottom: 1px solid gray;flex-grow: 1;}#sk-container-id-18 div.sk-label:hover label.sk-toggleable__label {background-color: #d4ebff;}#sk-container-id-18 div.sk-serial::before {content: \"\";position: absolute;border-left: 1px solid gray;box-sizing: border-box;top: 0;bottom: 0;left: 50%;z-index: 0;}#sk-container-id-18 div.sk-serial {display: flex;flex-direction: column;align-items: center;background-color: white;padding-right: 0.2em;padding-left: 0.2em;position: relative;}#sk-container-id-18 div.sk-item {position: relative;z-index: 1;}#sk-container-id-18 div.sk-parallel {display: flex;align-items: stretch;justify-content: center;background-color: white;position: relative;}#sk-container-id-18 div.sk-item::before, #sk-container-id-18 div.sk-parallel-item::before {content: \"\";position: absolute;border-left: 1px solid gray;box-sizing: border-box;top: 0;bottom: 0;left: 50%;z-index: -1;}#sk-container-id-18 div.sk-parallel-item {display: flex;flex-direction: column;z-index: 1;position: relative;background-color: white;}#sk-container-id-18 div.sk-parallel-item:first-child::after {align-self: flex-end;width: 50%;}#sk-container-id-18 div.sk-parallel-item:last-child::after {align-self: flex-start;width: 50%;}#sk-container-id-18 div.sk-parallel-item:only-child::after {width: 0;}#sk-container-id-18 div.sk-dashed-wrapped {border: 1px dashed gray;margin: 0 0.4em 0.5em 0.4em;box-sizing: border-box;padding-bottom: 0.4em;background-color: white;}#sk-container-id-18 div.sk-label label {font-family: monospace;font-weight: bold;display: inline-block;line-height: 1.2em;}#sk-container-id-18 div.sk-label-container {text-align: center;}#sk-container-id-18 div.sk-container {/* jupyter's `normalize.less` sets `[hidden] { display: none; }` but bootstrap.min.css set `[hidden] { display: none !important; }` so we also need the `!important` here to be able to override the default hidden behavior on the sphinx rendered scikit-learn.org. See: https://github.com/scikit-learn/scikit-learn/issues/21755 */display: inline-block !important;position: relative;}#sk-container-id-18 div.sk-text-repr-fallback {display: none;}</style><div id=\"sk-container-id-18\" class=\"sk-top-container\"><div class=\"sk-text-repr-fallback\"><pre>RandomizedSearchCV(cv=5,\n",
       "                   estimator=SGDClassifier(loss=&#x27;log_loss&#x27;, random_state=42),\n",
       "                   n_jobs=-1,\n",
       "                   param_distributions={&#x27;alpha&#x27;: [1e-05, 0.0001, 0.001, 0.01],\n",
       "                                        &#x27;eta0&#x27;: [1e-05, 0.0001, 0.001, 0.01],\n",
       "                                        &#x27;learning_rate&#x27;: [&#x27;constant&#x27;, &#x27;optimal&#x27;,\n",
       "                                                          &#x27;invscaling&#x27;,\n",
       "                                                          &#x27;adaptive&#x27;],\n",
       "                                        &#x27;max_iter&#x27;: [100, 1000],\n",
       "                                        &#x27;penalty&#x27;: [&#x27;l2&#x27;, &#x27;l1&#x27;, &#x27;elasticnet&#x27;,\n",
       "                                                    None],\n",
       "                                        &#x27;tol&#x27;: [1e-05, 0.0001, 0.001, 0.01]},\n",
       "                   random_state=42, scoring=&#x27;roc_auc&#x27;, verbose=3)</pre><b>In a Jupyter environment, please rerun this cell to show the HTML representation or trust the notebook. <br />On GitHub, the HTML representation is unable to render, please try loading this page with nbviewer.org.</b></div><div class=\"sk-container\" hidden><div class=\"sk-item sk-dashed-wrapped\"><div class=\"sk-label-container\"><div class=\"sk-label sk-toggleable\"><input class=\"sk-toggleable__control sk-hidden--visually\" id=\"sk-estimator-id-34\" type=\"checkbox\" ><label for=\"sk-estimator-id-34\" class=\"sk-toggleable__label sk-toggleable__label-arrow\">RandomizedSearchCV</label><div class=\"sk-toggleable__content\"><pre>RandomizedSearchCV(cv=5,\n",
       "                   estimator=SGDClassifier(loss=&#x27;log_loss&#x27;, random_state=42),\n",
       "                   n_jobs=-1,\n",
       "                   param_distributions={&#x27;alpha&#x27;: [1e-05, 0.0001, 0.001, 0.01],\n",
       "                                        &#x27;eta0&#x27;: [1e-05, 0.0001, 0.001, 0.01],\n",
       "                                        &#x27;learning_rate&#x27;: [&#x27;constant&#x27;, &#x27;optimal&#x27;,\n",
       "                                                          &#x27;invscaling&#x27;,\n",
       "                                                          &#x27;adaptive&#x27;],\n",
       "                                        &#x27;max_iter&#x27;: [100, 1000],\n",
       "                                        &#x27;penalty&#x27;: [&#x27;l2&#x27;, &#x27;l1&#x27;, &#x27;elasticnet&#x27;,\n",
       "                                                    None],\n",
       "                                        &#x27;tol&#x27;: [1e-05, 0.0001, 0.001, 0.01]},\n",
       "                   random_state=42, scoring=&#x27;roc_auc&#x27;, verbose=3)</pre></div></div></div><div class=\"sk-parallel\"><div class=\"sk-parallel-item\"><div class=\"sk-item\"><div class=\"sk-label-container\"><div class=\"sk-label sk-toggleable\"><input class=\"sk-toggleable__control sk-hidden--visually\" id=\"sk-estimator-id-35\" type=\"checkbox\" ><label for=\"sk-estimator-id-35\" class=\"sk-toggleable__label sk-toggleable__label-arrow\">estimator: SGDClassifier</label><div class=\"sk-toggleable__content\"><pre>SGDClassifier(loss=&#x27;log_loss&#x27;, random_state=42)</pre></div></div></div><div class=\"sk-serial\"><div class=\"sk-item\"><div class=\"sk-estimator sk-toggleable\"><input class=\"sk-toggleable__control sk-hidden--visually\" id=\"sk-estimator-id-36\" type=\"checkbox\" ><label for=\"sk-estimator-id-36\" class=\"sk-toggleable__label sk-toggleable__label-arrow\">SGDClassifier</label><div class=\"sk-toggleable__content\"><pre>SGDClassifier(loss=&#x27;log_loss&#x27;, random_state=42)</pre></div></div></div></div></div></div></div></div></div></div>"
      ],
      "text/plain": [
       "RandomizedSearchCV(cv=5,\n",
       "                   estimator=SGDClassifier(loss='log_loss', random_state=42),\n",
       "                   n_jobs=-1,\n",
       "                   param_distributions={'alpha': [1e-05, 0.0001, 0.001, 0.01],\n",
       "                                        'eta0': [1e-05, 0.0001, 0.001, 0.01],\n",
       "                                        'learning_rate': ['constant', 'optimal',\n",
       "                                                          'invscaling',\n",
       "                                                          'adaptive'],\n",
       "                                        'max_iter': [100, 1000],\n",
       "                                        'penalty': ['l2', 'l1', 'elasticnet',\n",
       "                                                    None],\n",
       "                                        'tol': [1e-05, 0.0001, 0.001, 0.01]},\n",
       "                   random_state=42, scoring='roc_auc', verbose=3)"
      ]
     },
     "execution_count": 48,
     "metadata": {},
     "output_type": "execute_result"
    }
   ],
   "source": [
    "import numpy as np\n",
    "from sklearn.model_selection import RandomizedSearchCV\n",
    "\n",
    "param_grid = {\n",
    "    'alpha': [0.00001, 0.0001, 0.001, 0.01],\n",
    "    'tol': [0.00001, 0.0001, 0.001, 0.01],\n",
    "    'penalty' : ['l2', 'l1', 'elasticnet', None],\n",
    "    'eta0': [0.00001, 0.0001, 0.001, 0.01],\n",
    "    'learning_rate' : ['constant', 'optimal', 'invscaling', 'adaptive'],\n",
    "    'max_iter': [100, 1000],\n",
    "}\n",
    "grid_search = RandomizedSearchCV(\n",
    "    SGDClassifier(loss='log_loss', random_state=42),\n",
    "    param_distributions=param_grid,\n",
    "    n_iter=10,\n",
    "    cv=5, verbose=3, n_jobs=-1, scoring='roc_auc', random_state=42\n",
    ")\n",
    "grid_search.fit(X_train, y_train)"
   ]
  },
  {
   "cell_type": "code",
   "execution_count": 49,
   "metadata": {},
   "outputs": [
    {
     "data": {
      "text/html": [
       "<style>#sk-container-id-19 {color: black;}#sk-container-id-19 pre{padding: 0;}#sk-container-id-19 div.sk-toggleable {background-color: white;}#sk-container-id-19 label.sk-toggleable__label {cursor: pointer;display: block;width: 100%;margin-bottom: 0;padding: 0.3em;box-sizing: border-box;text-align: center;}#sk-container-id-19 label.sk-toggleable__label-arrow:before {content: \"▸\";float: left;margin-right: 0.25em;color: #696969;}#sk-container-id-19 label.sk-toggleable__label-arrow:hover:before {color: black;}#sk-container-id-19 div.sk-estimator:hover label.sk-toggleable__label-arrow:before {color: black;}#sk-container-id-19 div.sk-toggleable__content {max-height: 0;max-width: 0;overflow: hidden;text-align: left;background-color: #f0f8ff;}#sk-container-id-19 div.sk-toggleable__content pre {margin: 0.2em;color: black;border-radius: 0.25em;background-color: #f0f8ff;}#sk-container-id-19 input.sk-toggleable__control:checked~div.sk-toggleable__content {max-height: 200px;max-width: 100%;overflow: auto;}#sk-container-id-19 input.sk-toggleable__control:checked~label.sk-toggleable__label-arrow:before {content: \"▾\";}#sk-container-id-19 div.sk-estimator input.sk-toggleable__control:checked~label.sk-toggleable__label {background-color: #d4ebff;}#sk-container-id-19 div.sk-label input.sk-toggleable__control:checked~label.sk-toggleable__label {background-color: #d4ebff;}#sk-container-id-19 input.sk-hidden--visually {border: 0;clip: rect(1px 1px 1px 1px);clip: rect(1px, 1px, 1px, 1px);height: 1px;margin: -1px;overflow: hidden;padding: 0;position: absolute;width: 1px;}#sk-container-id-19 div.sk-estimator {font-family: monospace;background-color: #f0f8ff;border: 1px dotted black;border-radius: 0.25em;box-sizing: border-box;margin-bottom: 0.5em;}#sk-container-id-19 div.sk-estimator:hover {background-color: #d4ebff;}#sk-container-id-19 div.sk-parallel-item::after {content: \"\";width: 100%;border-bottom: 1px solid gray;flex-grow: 1;}#sk-container-id-19 div.sk-label:hover label.sk-toggleable__label {background-color: #d4ebff;}#sk-container-id-19 div.sk-serial::before {content: \"\";position: absolute;border-left: 1px solid gray;box-sizing: border-box;top: 0;bottom: 0;left: 50%;z-index: 0;}#sk-container-id-19 div.sk-serial {display: flex;flex-direction: column;align-items: center;background-color: white;padding-right: 0.2em;padding-left: 0.2em;position: relative;}#sk-container-id-19 div.sk-item {position: relative;z-index: 1;}#sk-container-id-19 div.sk-parallel {display: flex;align-items: stretch;justify-content: center;background-color: white;position: relative;}#sk-container-id-19 div.sk-item::before, #sk-container-id-19 div.sk-parallel-item::before {content: \"\";position: absolute;border-left: 1px solid gray;box-sizing: border-box;top: 0;bottom: 0;left: 50%;z-index: -1;}#sk-container-id-19 div.sk-parallel-item {display: flex;flex-direction: column;z-index: 1;position: relative;background-color: white;}#sk-container-id-19 div.sk-parallel-item:first-child::after {align-self: flex-end;width: 50%;}#sk-container-id-19 div.sk-parallel-item:last-child::after {align-self: flex-start;width: 50%;}#sk-container-id-19 div.sk-parallel-item:only-child::after {width: 0;}#sk-container-id-19 div.sk-dashed-wrapped {border: 1px dashed gray;margin: 0 0.4em 0.5em 0.4em;box-sizing: border-box;padding-bottom: 0.4em;background-color: white;}#sk-container-id-19 div.sk-label label {font-family: monospace;font-weight: bold;display: inline-block;line-height: 1.2em;}#sk-container-id-19 div.sk-label-container {text-align: center;}#sk-container-id-19 div.sk-container {/* jupyter's `normalize.less` sets `[hidden] { display: none; }` but bootstrap.min.css set `[hidden] { display: none !important; }` so we also need the `!important` here to be able to override the default hidden behavior on the sphinx rendered scikit-learn.org. See: https://github.com/scikit-learn/scikit-learn/issues/21755 */display: inline-block !important;position: relative;}#sk-container-id-19 div.sk-text-repr-fallback {display: none;}</style><div id=\"sk-container-id-19\" class=\"sk-top-container\"><div class=\"sk-text-repr-fallback\"><pre>SGDClassifier(alpha=0.01, eta0=1e-05, learning_rate=&#x27;adaptive&#x27;, loss=&#x27;log_loss&#x27;,\n",
       "              max_iter=100, penalty=&#x27;l1&#x27;, random_state=42)</pre><b>In a Jupyter environment, please rerun this cell to show the HTML representation or trust the notebook. <br />On GitHub, the HTML representation is unable to render, please try loading this page with nbviewer.org.</b></div><div class=\"sk-container\" hidden><div class=\"sk-item\"><div class=\"sk-estimator sk-toggleable\"><input class=\"sk-toggleable__control sk-hidden--visually\" id=\"sk-estimator-id-37\" type=\"checkbox\" checked><label for=\"sk-estimator-id-37\" class=\"sk-toggleable__label sk-toggleable__label-arrow\">SGDClassifier</label><div class=\"sk-toggleable__content\"><pre>SGDClassifier(alpha=0.01, eta0=1e-05, learning_rate=&#x27;adaptive&#x27;, loss=&#x27;log_loss&#x27;,\n",
       "              max_iter=100, penalty=&#x27;l1&#x27;, random_state=42)</pre></div></div></div></div></div>"
      ],
      "text/plain": [
       "SGDClassifier(alpha=0.01, eta0=1e-05, learning_rate='adaptive', loss='log_loss',\n",
       "              max_iter=100, penalty='l1', random_state=42)"
      ]
     },
     "execution_count": 49,
     "metadata": {},
     "output_type": "execute_result"
    }
   ],
   "source": [
    "final_model = grid_search.best_estimator_\n",
    "final_model"
   ]
  },
  {
   "cell_type": "markdown",
   "metadata": {},
   "source": [
    "We get the best model with parameter alpha=0.01, eta=0.00001, learning_rate=adaptive, max_iter=100 and penalty=l1"
   ]
  },
  {
   "cell_type": "code",
   "execution_count": 50,
   "metadata": {},
   "outputs": [
    {
     "name": "stdout",
     "output_type": "stream",
     "text": [
      "Score on training set: 0.6905403623987345\n"
     ]
    }
   ],
   "source": [
    "y_pred = final_model.predict_proba(X_train)[:, 1]\n",
    "print(f\"Score on training set: {roc_auc_score(y_train, y_pred)}\")"
   ]
  },
  {
   "cell_type": "code",
   "execution_count": 51,
   "metadata": {},
   "outputs": [
    {
     "name": "stdout",
     "output_type": "stream",
     "text": [
      "Score on validation set: 0.6943198804185352\n"
     ]
    }
   ],
   "source": [
    "y_pred = final_model.predict_proba(X_val)[:, 1]\n",
    "print(f\"Score on validation set: {roc_auc_score(y_val, y_pred)}\")"
   ]
  },
  {
   "cell_type": "code",
   "execution_count": 52,
   "metadata": {},
   "outputs": [
    {
     "name": "stdout",
     "output_type": "stream",
     "text": [
      "Score on test set: 0.6492756280946268\n"
     ]
    }
   ],
   "source": [
    "y_pred = final_model.predict_proba(X_test)[:, 1]\n",
    "print(f\"Score on test set: {roc_auc_score(y_test, y_pred)}\")"
   ]
  },
  {
   "cell_type": "markdown",
   "metadata": {},
   "source": [
    "  > Suprisingly the validation set's ROC AUC is higher than the training set "
   ]
  },
  {
   "cell_type": "markdown",
   "metadata": {},
   "source": [
    "## Trying Alternate Model: RandomForestClassifier"
   ]
  },
  {
   "cell_type": "markdown",
   "metadata": {},
   "source": [
    "### UnTuned version of RandomForestClassifier"
   ]
  },
  {
   "cell_type": "code",
   "execution_count": 96,
   "metadata": {},
   "outputs": [
    {
     "data": {
      "text/html": [
       "<style>#sk-container-id-32 {color: black;}#sk-container-id-32 pre{padding: 0;}#sk-container-id-32 div.sk-toggleable {background-color: white;}#sk-container-id-32 label.sk-toggleable__label {cursor: pointer;display: block;width: 100%;margin-bottom: 0;padding: 0.3em;box-sizing: border-box;text-align: center;}#sk-container-id-32 label.sk-toggleable__label-arrow:before {content: \"▸\";float: left;margin-right: 0.25em;color: #696969;}#sk-container-id-32 label.sk-toggleable__label-arrow:hover:before {color: black;}#sk-container-id-32 div.sk-estimator:hover label.sk-toggleable__label-arrow:before {color: black;}#sk-container-id-32 div.sk-toggleable__content {max-height: 0;max-width: 0;overflow: hidden;text-align: left;background-color: #f0f8ff;}#sk-container-id-32 div.sk-toggleable__content pre {margin: 0.2em;color: black;border-radius: 0.25em;background-color: #f0f8ff;}#sk-container-id-32 input.sk-toggleable__control:checked~div.sk-toggleable__content {max-height: 200px;max-width: 100%;overflow: auto;}#sk-container-id-32 input.sk-toggleable__control:checked~label.sk-toggleable__label-arrow:before {content: \"▾\";}#sk-container-id-32 div.sk-estimator input.sk-toggleable__control:checked~label.sk-toggleable__label {background-color: #d4ebff;}#sk-container-id-32 div.sk-label input.sk-toggleable__control:checked~label.sk-toggleable__label {background-color: #d4ebff;}#sk-container-id-32 input.sk-hidden--visually {border: 0;clip: rect(1px 1px 1px 1px);clip: rect(1px, 1px, 1px, 1px);height: 1px;margin: -1px;overflow: hidden;padding: 0;position: absolute;width: 1px;}#sk-container-id-32 div.sk-estimator {font-family: monospace;background-color: #f0f8ff;border: 1px dotted black;border-radius: 0.25em;box-sizing: border-box;margin-bottom: 0.5em;}#sk-container-id-32 div.sk-estimator:hover {background-color: #d4ebff;}#sk-container-id-32 div.sk-parallel-item::after {content: \"\";width: 100%;border-bottom: 1px solid gray;flex-grow: 1;}#sk-container-id-32 div.sk-label:hover label.sk-toggleable__label {background-color: #d4ebff;}#sk-container-id-32 div.sk-serial::before {content: \"\";position: absolute;border-left: 1px solid gray;box-sizing: border-box;top: 0;bottom: 0;left: 50%;z-index: 0;}#sk-container-id-32 div.sk-serial {display: flex;flex-direction: column;align-items: center;background-color: white;padding-right: 0.2em;padding-left: 0.2em;position: relative;}#sk-container-id-32 div.sk-item {position: relative;z-index: 1;}#sk-container-id-32 div.sk-parallel {display: flex;align-items: stretch;justify-content: center;background-color: white;position: relative;}#sk-container-id-32 div.sk-item::before, #sk-container-id-32 div.sk-parallel-item::before {content: \"\";position: absolute;border-left: 1px solid gray;box-sizing: border-box;top: 0;bottom: 0;left: 50%;z-index: -1;}#sk-container-id-32 div.sk-parallel-item {display: flex;flex-direction: column;z-index: 1;position: relative;background-color: white;}#sk-container-id-32 div.sk-parallel-item:first-child::after {align-self: flex-end;width: 50%;}#sk-container-id-32 div.sk-parallel-item:last-child::after {align-self: flex-start;width: 50%;}#sk-container-id-32 div.sk-parallel-item:only-child::after {width: 0;}#sk-container-id-32 div.sk-dashed-wrapped {border: 1px dashed gray;margin: 0 0.4em 0.5em 0.4em;box-sizing: border-box;padding-bottom: 0.4em;background-color: white;}#sk-container-id-32 div.sk-label label {font-family: monospace;font-weight: bold;display: inline-block;line-height: 1.2em;}#sk-container-id-32 div.sk-label-container {text-align: center;}#sk-container-id-32 div.sk-container {/* jupyter's `normalize.less` sets `[hidden] { display: none; }` but bootstrap.min.css set `[hidden] { display: none !important; }` so we also need the `!important` here to be able to override the default hidden behavior on the sphinx rendered scikit-learn.org. See: https://github.com/scikit-learn/scikit-learn/issues/21755 */display: inline-block !important;position: relative;}#sk-container-id-32 div.sk-text-repr-fallback {display: none;}</style><div id=\"sk-container-id-32\" class=\"sk-top-container\"><div class=\"sk-text-repr-fallback\"><pre>RandomForestClassifier(criterion=&#x27;log_loss&#x27;, random_state=42)</pre><b>In a Jupyter environment, please rerun this cell to show the HTML representation or trust the notebook. <br />On GitHub, the HTML representation is unable to render, please try loading this page with nbviewer.org.</b></div><div class=\"sk-container\" hidden><div class=\"sk-item\"><div class=\"sk-estimator sk-toggleable\"><input class=\"sk-toggleable__control sk-hidden--visually\" id=\"sk-estimator-id-60\" type=\"checkbox\" checked><label for=\"sk-estimator-id-60\" class=\"sk-toggleable__label sk-toggleable__label-arrow\">RandomForestClassifier</label><div class=\"sk-toggleable__content\"><pre>RandomForestClassifier(criterion=&#x27;log_loss&#x27;, random_state=42)</pre></div></div></div></div></div>"
      ],
      "text/plain": [
       "RandomForestClassifier(criterion='log_loss', random_state=42)"
      ]
     },
     "execution_count": 96,
     "metadata": {},
     "output_type": "execute_result"
    }
   ],
   "source": [
    "from sklearn.ensemble import RandomForestClassifier\n",
    "\n",
    "model = RandomForestClassifier(criterion='log_loss', random_state=42)\n",
    "model.fit(X_train, y_train)"
   ]
  },
  {
   "cell_type": "code",
   "execution_count": 97,
   "metadata": {},
   "outputs": [
    {
     "data": {
      "text/plain": [
       "{'bootstrap': True,\n",
       " 'ccp_alpha': 0.0,\n",
       " 'class_weight': None,\n",
       " 'criterion': 'log_loss',\n",
       " 'max_depth': None,\n",
       " 'max_features': 'sqrt',\n",
       " 'max_leaf_nodes': None,\n",
       " 'max_samples': None,\n",
       " 'min_impurity_decrease': 0.0,\n",
       " 'min_samples_leaf': 1,\n",
       " 'min_samples_split': 2,\n",
       " 'min_weight_fraction_leaf': 0.0,\n",
       " 'n_estimators': 100,\n",
       " 'n_jobs': None,\n",
       " 'oob_score': False,\n",
       " 'random_state': 42,\n",
       " 'verbose': 0,\n",
       " 'warm_start': False}"
      ]
     },
     "execution_count": 97,
     "metadata": {},
     "output_type": "execute_result"
    }
   ],
   "source": [
    "model.get_params()"
   ]
  },
  {
   "cell_type": "code",
   "execution_count": 98,
   "metadata": {},
   "outputs": [
    {
     "name": "stdout",
     "output_type": "stream",
     "text": [
      "Score on training set: 1.0\n"
     ]
    }
   ],
   "source": [
    "y_pred = model.predict_proba(X_train)[:, 1]\n",
    "print(f\"Score on training set: {roc_auc_score(y_train, y_pred)}\")"
   ]
  },
  {
   "cell_type": "code",
   "execution_count": 99,
   "metadata": {},
   "outputs": [
    {
     "name": "stdout",
     "output_type": "stream",
     "text": [
      "Score on validation set: 0.7628300946686597\n"
     ]
    }
   ],
   "source": [
    "y_pred = model.predict_proba(X_val)[:, 1]\n",
    "print(f\"Score on validation set: {roc_auc_score(y_val, y_pred)}\")"
   ]
  },
  {
   "cell_type": "code",
   "execution_count": 100,
   "metadata": {},
   "outputs": [
    {
     "name": "stdout",
     "output_type": "stream",
     "text": [
      "Score on test set: 0.7431016565804756\n"
     ]
    }
   ],
   "source": [
    "y_pred = model.predict_proba(X_test)[:, 1]\n",
    "print(f\"Score on test set: {roc_auc_score(y_test, y_pred)}\")"
   ]
  },
  {
   "cell_type": "markdown",
   "metadata": {},
   "source": [
    "### Tuned version of RandomForestClassifier"
   ]
  },
  {
   "cell_type": "code",
   "execution_count": 61,
   "metadata": {},
   "outputs": [
    {
     "name": "stdout",
     "output_type": "stream",
     "text": [
      "Fitting 5 folds for each of 10 candidates, totalling 50 fits\n",
      "[CV 2/5] END max_depth=5, max_leaf_nodes=5, max_samples=100, min_samples_leaf=500, min_samples_split=500, n_estimators=50;, score=0.500 total time=   0.1s\n",
      "[CV 1/5] END max_depth=5, max_leaf_nodes=5, max_samples=100, min_samples_leaf=500, min_samples_split=500, n_estimators=50;, score=0.500 total time=   0.2s\n",
      "[CV 3/5] END max_depth=5, max_leaf_nodes=5, max_samples=100, min_samples_leaf=500, min_samples_split=500, n_estimators=50;, score=0.500 total time=   0.1s\n",
      "[CV 2/5] END max_depth=50, max_leaf_nodes=5, max_samples=10, min_samples_leaf=5, min_samples_split=250, n_estimators=100;, score=0.500 total time=   0.3s\n",
      "[CV 4/5] END max_depth=5, max_leaf_nodes=5, max_samples=100, min_samples_leaf=500, min_samples_split=500, n_estimators=50;, score=0.500 total time=   0.2s\n",
      "[CV 4/5] END max_depth=50, max_leaf_nodes=5, max_samples=10, min_samples_leaf=5, min_samples_split=250, n_estimators=100;, score=0.500 total time=   0.3s\n",
      "[CV 5/5] END max_depth=50, max_leaf_nodes=5, max_samples=10, min_samples_leaf=5, min_samples_split=250, n_estimators=100;, score=0.500 total time=   0.3s\n",
      "[CV 5/5] END max_depth=5, max_leaf_nodes=5, max_samples=100, min_samples_leaf=500, min_samples_split=500, n_estimators=50;, score=0.500 total time=   0.2s\n",
      "[CV 1/5] END max_depth=50, max_leaf_nodes=5, max_samples=10, min_samples_leaf=5, min_samples_split=250, n_estimators=100;, score=0.500 total time=   0.4s\n",
      "[CV 3/5] END max_depth=50, max_leaf_nodes=5, max_samples=10, min_samples_leaf=5, min_samples_split=250, n_estimators=100;, score=0.500 total time=   0.4s\n",
      "[CV 3/5] END max_depth=500, max_leaf_nodes=250, max_samples=100, min_samples_leaf=5, min_samples_split=100, n_estimators=50;, score=0.500 total time=   0.1s\n",
      "[CV 2/5] END max_depth=500, max_leaf_nodes=250, max_samples=100, min_samples_leaf=5, min_samples_split=100, n_estimators=50;, score=0.500 total time=   0.2s\n",
      "[CV 1/5] END max_depth=500, max_leaf_nodes=250, max_samples=100, min_samples_leaf=5, min_samples_split=100, n_estimators=50;, score=0.500 total time=   0.2s\n",
      "[CV 4/5] END max_depth=500, max_leaf_nodes=250, max_samples=100, min_samples_leaf=5, min_samples_split=100, n_estimators=50;, score=0.500 total time=   0.2s\n",
      "[CV 5/5] END max_depth=500, max_leaf_nodes=250, max_samples=100, min_samples_leaf=5, min_samples_split=100, n_estimators=50;, score=0.500 total time=   0.2s\n",
      "[CV 2/5] END max_depth=250, max_leaf_nodes=500, max_samples=50, min_samples_leaf=100, min_samples_split=500, n_estimators=250;, score=0.500 total time=   0.8s\n",
      "[CV 1/5] END max_depth=250, max_leaf_nodes=500, max_samples=50, min_samples_leaf=100, min_samples_split=500, n_estimators=250;, score=0.500 total time=   0.9s\n",
      "[CV 5/5] END max_depth=250, max_leaf_nodes=500, max_samples=50, min_samples_leaf=100, min_samples_split=500, n_estimators=250;, score=0.500 total time=   0.9s\n",
      "[CV 1/5] END max_depth=5, max_leaf_nodes=250, max_samples=500, min_samples_leaf=5, min_samples_split=5, n_estimators=10;, score=0.748 total time=   0.0s\n",
      "[CV 4/5] END max_depth=250, max_leaf_nodes=500, max_samples=50, min_samples_leaf=100, min_samples_split=500, n_estimators=250;, score=0.500 total time=   0.9s\n",
      "[CV 3/5] END max_depth=250, max_leaf_nodes=500, max_samples=50, min_samples_leaf=100, min_samples_split=500, n_estimators=250;, score=0.500 total time=   1.0s\n",
      "[CV 4/5] END max_depth=5, max_leaf_nodes=250, max_samples=500, min_samples_leaf=5, min_samples_split=5, n_estimators=10;, score=0.761 total time=   0.0s\n",
      "[CV 2/5] END max_depth=5, max_leaf_nodes=250, max_samples=500, min_samples_leaf=5, min_samples_split=5, n_estimators=10;, score=0.744 total time=   0.1s\n",
      "[CV 3/5] END max_depth=5, max_leaf_nodes=250, max_samples=500, min_samples_leaf=5, min_samples_split=5, n_estimators=10;, score=0.733 total time=   0.1s\n",
      "[CV 5/5] END max_depth=5, max_leaf_nodes=250, max_samples=500, min_samples_leaf=5, min_samples_split=5, n_estimators=10;, score=0.707 total time=   0.1s\n",
      "[CV 3/5] END max_depth=50, max_leaf_nodes=10, max_samples=5, min_samples_leaf=5, min_samples_split=5, n_estimators=50;, score=0.500 total time=   0.1s\n",
      "[CV 1/5] END max_depth=50, max_leaf_nodes=10, max_samples=5, min_samples_leaf=5, min_samples_split=5, n_estimators=50;, score=0.500 total time=   0.2s\n",
      "[CV 2/5] END max_depth=50, max_leaf_nodes=10, max_samples=5, min_samples_leaf=5, min_samples_split=5, n_estimators=50;, score=0.500 total time=   0.2s\n",
      "[CV 2/5] END max_depth=10, max_leaf_nodes=50, max_samples=250, min_samples_leaf=10, min_samples_split=50, n_estimators=250;, score=0.765 total time=   0.8s\n",
      "[CV 1/5] END max_depth=250, max_leaf_nodes=250, max_samples=250, min_samples_leaf=10, min_samples_split=10, n_estimators=5;, score=0.739 total time=   0.0s\n",
      "[CV 2/5] END max_depth=250, max_leaf_nodes=250, max_samples=250, min_samples_leaf=10, min_samples_split=10, n_estimators=5;, score=0.733 total time=   0.0s\n",
      "[CV 3/5] END max_depth=250, max_leaf_nodes=250, max_samples=250, min_samples_leaf=10, min_samples_split=10, n_estimators=5;, score=0.683 total time=   0.0s\n",
      "[CV 4/5] END max_depth=250, max_leaf_nodes=250, max_samples=250, min_samples_leaf=10, min_samples_split=10, n_estimators=5;, score=0.689 total time=   0.0s\n",
      "[CV 5/5] END max_depth=250, max_leaf_nodes=250, max_samples=250, min_samples_leaf=10, min_samples_split=10, n_estimators=5;, score=0.734 total time=   0.0s\n",
      "[CV 3/5] END max_depth=10, max_leaf_nodes=50, max_samples=250, min_samples_leaf=10, min_samples_split=50, n_estimators=250;, score=0.747 total time=   0.9s\n",
      "[CV 4/5] END max_depth=50, max_leaf_nodes=10, max_samples=5, min_samples_leaf=5, min_samples_split=5, n_estimators=50;, score=0.500 total time=   0.2s\n",
      "[CV 5/5] END max_depth=50, max_leaf_nodes=10, max_samples=5, min_samples_leaf=5, min_samples_split=5, n_estimators=50;, score=0.500 total time=   0.1s\n",
      "[CV 1/5] END max_depth=10, max_leaf_nodes=50, max_samples=250, min_samples_leaf=10, min_samples_split=50, n_estimators=250;, score=0.758 total time=   1.1s\n",
      "[CV 1/5] END max_depth=500, max_leaf_nodes=250, max_samples=5, min_samples_leaf=10, min_samples_split=500, n_estimators=10;, score=0.500 total time=   0.0s\n",
      "[CV 2/5] END max_depth=500, max_leaf_nodes=250, max_samples=5, min_samples_leaf=10, min_samples_split=500, n_estimators=10;, score=0.500 total time=   0.0s\n",
      "[CV 2/5] END max_depth=50, max_leaf_nodes=250, max_samples=500, min_samples_leaf=250, min_samples_split=5, n_estimators=50;, score=0.500 total time=   0.2s\n",
      "[CV 3/5] END max_depth=50, max_leaf_nodes=250, max_samples=500, min_samples_leaf=250, min_samples_split=5, n_estimators=50;, score=0.500 total time=   0.2s\n",
      "[CV 5/5] END max_depth=50, max_leaf_nodes=250, max_samples=500, min_samples_leaf=250, min_samples_split=5, n_estimators=50;, score=0.500 total time=   0.1s\n",
      "[CV 1/5] END max_depth=50, max_leaf_nodes=250, max_samples=500, min_samples_leaf=250, min_samples_split=5, n_estimators=50;, score=0.500 total time=   0.2s\n",
      "[CV 3/5] END max_depth=500, max_leaf_nodes=250, max_samples=5, min_samples_leaf=10, min_samples_split=500, n_estimators=10;, score=0.500 total time=   0.0s\n",
      "[CV 4/5] END max_depth=500, max_leaf_nodes=250, max_samples=5, min_samples_leaf=10, min_samples_split=500, n_estimators=10;, score=0.500 total time=   0.0s\n",
      "[CV 5/5] END max_depth=500, max_leaf_nodes=250, max_samples=5, min_samples_leaf=10, min_samples_split=500, n_estimators=10;, score=0.500 total time=   0.0s\n",
      "[CV 4/5] END max_depth=50, max_leaf_nodes=250, max_samples=500, min_samples_leaf=250, min_samples_split=5, n_estimators=50;, score=0.500 total time=   0.2s\n",
      "[CV 4/5] END max_depth=10, max_leaf_nodes=50, max_samples=250, min_samples_leaf=10, min_samples_split=50, n_estimators=250;, score=0.775 total time=   0.9s\n",
      "[CV 5/5] END max_depth=10, max_leaf_nodes=50, max_samples=250, min_samples_leaf=10, min_samples_split=50, n_estimators=250;, score=0.717 total time=   0.9s\n"
     ]
    },
    {
     "data": {
      "text/html": [
       "<style>#sk-container-id-23 {color: black;}#sk-container-id-23 pre{padding: 0;}#sk-container-id-23 div.sk-toggleable {background-color: white;}#sk-container-id-23 label.sk-toggleable__label {cursor: pointer;display: block;width: 100%;margin-bottom: 0;padding: 0.3em;box-sizing: border-box;text-align: center;}#sk-container-id-23 label.sk-toggleable__label-arrow:before {content: \"▸\";float: left;margin-right: 0.25em;color: #696969;}#sk-container-id-23 label.sk-toggleable__label-arrow:hover:before {color: black;}#sk-container-id-23 div.sk-estimator:hover label.sk-toggleable__label-arrow:before {color: black;}#sk-container-id-23 div.sk-toggleable__content {max-height: 0;max-width: 0;overflow: hidden;text-align: left;background-color: #f0f8ff;}#sk-container-id-23 div.sk-toggleable__content pre {margin: 0.2em;color: black;border-radius: 0.25em;background-color: #f0f8ff;}#sk-container-id-23 input.sk-toggleable__control:checked~div.sk-toggleable__content {max-height: 200px;max-width: 100%;overflow: auto;}#sk-container-id-23 input.sk-toggleable__control:checked~label.sk-toggleable__label-arrow:before {content: \"▾\";}#sk-container-id-23 div.sk-estimator input.sk-toggleable__control:checked~label.sk-toggleable__label {background-color: #d4ebff;}#sk-container-id-23 div.sk-label input.sk-toggleable__control:checked~label.sk-toggleable__label {background-color: #d4ebff;}#sk-container-id-23 input.sk-hidden--visually {border: 0;clip: rect(1px 1px 1px 1px);clip: rect(1px, 1px, 1px, 1px);height: 1px;margin: -1px;overflow: hidden;padding: 0;position: absolute;width: 1px;}#sk-container-id-23 div.sk-estimator {font-family: monospace;background-color: #f0f8ff;border: 1px dotted black;border-radius: 0.25em;box-sizing: border-box;margin-bottom: 0.5em;}#sk-container-id-23 div.sk-estimator:hover {background-color: #d4ebff;}#sk-container-id-23 div.sk-parallel-item::after {content: \"\";width: 100%;border-bottom: 1px solid gray;flex-grow: 1;}#sk-container-id-23 div.sk-label:hover label.sk-toggleable__label {background-color: #d4ebff;}#sk-container-id-23 div.sk-serial::before {content: \"\";position: absolute;border-left: 1px solid gray;box-sizing: border-box;top: 0;bottom: 0;left: 50%;z-index: 0;}#sk-container-id-23 div.sk-serial {display: flex;flex-direction: column;align-items: center;background-color: white;padding-right: 0.2em;padding-left: 0.2em;position: relative;}#sk-container-id-23 div.sk-item {position: relative;z-index: 1;}#sk-container-id-23 div.sk-parallel {display: flex;align-items: stretch;justify-content: center;background-color: white;position: relative;}#sk-container-id-23 div.sk-item::before, #sk-container-id-23 div.sk-parallel-item::before {content: \"\";position: absolute;border-left: 1px solid gray;box-sizing: border-box;top: 0;bottom: 0;left: 50%;z-index: -1;}#sk-container-id-23 div.sk-parallel-item {display: flex;flex-direction: column;z-index: 1;position: relative;background-color: white;}#sk-container-id-23 div.sk-parallel-item:first-child::after {align-self: flex-end;width: 50%;}#sk-container-id-23 div.sk-parallel-item:last-child::after {align-self: flex-start;width: 50%;}#sk-container-id-23 div.sk-parallel-item:only-child::after {width: 0;}#sk-container-id-23 div.sk-dashed-wrapped {border: 1px dashed gray;margin: 0 0.4em 0.5em 0.4em;box-sizing: border-box;padding-bottom: 0.4em;background-color: white;}#sk-container-id-23 div.sk-label label {font-family: monospace;font-weight: bold;display: inline-block;line-height: 1.2em;}#sk-container-id-23 div.sk-label-container {text-align: center;}#sk-container-id-23 div.sk-container {/* jupyter's `normalize.less` sets `[hidden] { display: none; }` but bootstrap.min.css set `[hidden] { display: none !important; }` so we also need the `!important` here to be able to override the default hidden behavior on the sphinx rendered scikit-learn.org. See: https://github.com/scikit-learn/scikit-learn/issues/21755 */display: inline-block !important;position: relative;}#sk-container-id-23 div.sk-text-repr-fallback {display: none;}</style><div id=\"sk-container-id-23\" class=\"sk-top-container\"><div class=\"sk-text-repr-fallback\"><pre>RandomizedSearchCV(cv=5, estimator=RandomForestClassifier(random_state=42),\n",
       "                   n_jobs=-1,\n",
       "                   param_distributions={&#x27;max_depth&#x27;: [5, 10, 50, 100, 250, 500],\n",
       "                                        &#x27;max_leaf_nodes&#x27;: [5, 10, 50, 100, 250,\n",
       "                                                           500],\n",
       "                                        &#x27;max_samples&#x27;: [5, 10, 50, 100, 250,\n",
       "                                                        500],\n",
       "                                        &#x27;min_samples_leaf&#x27;: [5, 10, 50, 100,\n",
       "                                                             250, 500],\n",
       "                                        &#x27;min_samples_split&#x27;: [5, 10, 50, 100,\n",
       "                                                              250, 500],\n",
       "                                        &#x27;n_estimators&#x27;: [5, 10, 50, 100, 250,\n",
       "                                                         500]},\n",
       "                   random_state=42, scoring=&#x27;roc_auc&#x27;, verbose=3)</pre><b>In a Jupyter environment, please rerun this cell to show the HTML representation or trust the notebook. <br />On GitHub, the HTML representation is unable to render, please try loading this page with nbviewer.org.</b></div><div class=\"sk-container\" hidden><div class=\"sk-item sk-dashed-wrapped\"><div class=\"sk-label-container\"><div class=\"sk-label sk-toggleable\"><input class=\"sk-toggleable__control sk-hidden--visually\" id=\"sk-estimator-id-41\" type=\"checkbox\" ><label for=\"sk-estimator-id-41\" class=\"sk-toggleable__label sk-toggleable__label-arrow\">RandomizedSearchCV</label><div class=\"sk-toggleable__content\"><pre>RandomizedSearchCV(cv=5, estimator=RandomForestClassifier(random_state=42),\n",
       "                   n_jobs=-1,\n",
       "                   param_distributions={&#x27;max_depth&#x27;: [5, 10, 50, 100, 250, 500],\n",
       "                                        &#x27;max_leaf_nodes&#x27;: [5, 10, 50, 100, 250,\n",
       "                                                           500],\n",
       "                                        &#x27;max_samples&#x27;: [5, 10, 50, 100, 250,\n",
       "                                                        500],\n",
       "                                        &#x27;min_samples_leaf&#x27;: [5, 10, 50, 100,\n",
       "                                                             250, 500],\n",
       "                                        &#x27;min_samples_split&#x27;: [5, 10, 50, 100,\n",
       "                                                              250, 500],\n",
       "                                        &#x27;n_estimators&#x27;: [5, 10, 50, 100, 250,\n",
       "                                                         500]},\n",
       "                   random_state=42, scoring=&#x27;roc_auc&#x27;, verbose=3)</pre></div></div></div><div class=\"sk-parallel\"><div class=\"sk-parallel-item\"><div class=\"sk-item\"><div class=\"sk-label-container\"><div class=\"sk-label sk-toggleable\"><input class=\"sk-toggleable__control sk-hidden--visually\" id=\"sk-estimator-id-42\" type=\"checkbox\" ><label for=\"sk-estimator-id-42\" class=\"sk-toggleable__label sk-toggleable__label-arrow\">estimator: RandomForestClassifier</label><div class=\"sk-toggleable__content\"><pre>RandomForestClassifier(random_state=42)</pre></div></div></div><div class=\"sk-serial\"><div class=\"sk-item\"><div class=\"sk-estimator sk-toggleable\"><input class=\"sk-toggleable__control sk-hidden--visually\" id=\"sk-estimator-id-43\" type=\"checkbox\" ><label for=\"sk-estimator-id-43\" class=\"sk-toggleable__label sk-toggleable__label-arrow\">RandomForestClassifier</label><div class=\"sk-toggleable__content\"><pre>RandomForestClassifier(random_state=42)</pre></div></div></div></div></div></div></div></div></div></div>"
      ],
      "text/plain": [
       "RandomizedSearchCV(cv=5, estimator=RandomForestClassifier(random_state=42),\n",
       "                   n_jobs=-1,\n",
       "                   param_distributions={'max_depth': [5, 10, 50, 100, 250, 500],\n",
       "                                        'max_leaf_nodes': [5, 10, 50, 100, 250,\n",
       "                                                           500],\n",
       "                                        'max_samples': [5, 10, 50, 100, 250,\n",
       "                                                        500],\n",
       "                                        'min_samples_leaf': [5, 10, 50, 100,\n",
       "                                                             250, 500],\n",
       "                                        'min_samples_split': [5, 10, 50, 100,\n",
       "                                                              250, 500],\n",
       "                                        'n_estimators': [5, 10, 50, 100, 250,\n",
       "                                                         500]},\n",
       "                   random_state=42, scoring='roc_auc', verbose=3)"
      ]
     },
     "execution_count": 61,
     "metadata": {},
     "output_type": "execute_result"
    }
   ],
   "source": [
    "from sklearn.model_selection import RandomizedSearchCV\n",
    "\n",
    "param_grid = {\n",
    "    'n_estimators' : [5, 10, 50, 100, 250, 500],\n",
    "    'max_depth': [5, 10, 50, 100, 250, 500],\n",
    "    'min_samples_split': [5, 10, 50, 100, 250, 500],\n",
    "    'min_samples_leaf': [5, 10, 50, 100, 250, 500],\n",
    "    'max_leaf_nodes': [5, 10, 50, 100, 250, 500],\n",
    "    'max_samples': [5, 10, 50, 100, 250, 500],\n",
    "}\n",
    "grid_search = RandomizedSearchCV(\n",
    "    RandomForestClassifier(random_state=42),\n",
    "    param_distributions=param_grid,\n",
    "    n_iter=10,\n",
    "    cv=5,\n",
    "    verbose=3,\n",
    "    n_jobs=-1,\n",
    "    scoring='roc_auc', random_state=42\n",
    ")\n",
    "grid_search.fit(X_train, y_train)"
   ]
  },
  {
   "cell_type": "code",
   "execution_count": 62,
   "metadata": {},
   "outputs": [
    {
     "data": {
      "text/html": [
       "<style>#sk-container-id-24 {color: black;}#sk-container-id-24 pre{padding: 0;}#sk-container-id-24 div.sk-toggleable {background-color: white;}#sk-container-id-24 label.sk-toggleable__label {cursor: pointer;display: block;width: 100%;margin-bottom: 0;padding: 0.3em;box-sizing: border-box;text-align: center;}#sk-container-id-24 label.sk-toggleable__label-arrow:before {content: \"▸\";float: left;margin-right: 0.25em;color: #696969;}#sk-container-id-24 label.sk-toggleable__label-arrow:hover:before {color: black;}#sk-container-id-24 div.sk-estimator:hover label.sk-toggleable__label-arrow:before {color: black;}#sk-container-id-24 div.sk-toggleable__content {max-height: 0;max-width: 0;overflow: hidden;text-align: left;background-color: #f0f8ff;}#sk-container-id-24 div.sk-toggleable__content pre {margin: 0.2em;color: black;border-radius: 0.25em;background-color: #f0f8ff;}#sk-container-id-24 input.sk-toggleable__control:checked~div.sk-toggleable__content {max-height: 200px;max-width: 100%;overflow: auto;}#sk-container-id-24 input.sk-toggleable__control:checked~label.sk-toggleable__label-arrow:before {content: \"▾\";}#sk-container-id-24 div.sk-estimator input.sk-toggleable__control:checked~label.sk-toggleable__label {background-color: #d4ebff;}#sk-container-id-24 div.sk-label input.sk-toggleable__control:checked~label.sk-toggleable__label {background-color: #d4ebff;}#sk-container-id-24 input.sk-hidden--visually {border: 0;clip: rect(1px 1px 1px 1px);clip: rect(1px, 1px, 1px, 1px);height: 1px;margin: -1px;overflow: hidden;padding: 0;position: absolute;width: 1px;}#sk-container-id-24 div.sk-estimator {font-family: monospace;background-color: #f0f8ff;border: 1px dotted black;border-radius: 0.25em;box-sizing: border-box;margin-bottom: 0.5em;}#sk-container-id-24 div.sk-estimator:hover {background-color: #d4ebff;}#sk-container-id-24 div.sk-parallel-item::after {content: \"\";width: 100%;border-bottom: 1px solid gray;flex-grow: 1;}#sk-container-id-24 div.sk-label:hover label.sk-toggleable__label {background-color: #d4ebff;}#sk-container-id-24 div.sk-serial::before {content: \"\";position: absolute;border-left: 1px solid gray;box-sizing: border-box;top: 0;bottom: 0;left: 50%;z-index: 0;}#sk-container-id-24 div.sk-serial {display: flex;flex-direction: column;align-items: center;background-color: white;padding-right: 0.2em;padding-left: 0.2em;position: relative;}#sk-container-id-24 div.sk-item {position: relative;z-index: 1;}#sk-container-id-24 div.sk-parallel {display: flex;align-items: stretch;justify-content: center;background-color: white;position: relative;}#sk-container-id-24 div.sk-item::before, #sk-container-id-24 div.sk-parallel-item::before {content: \"\";position: absolute;border-left: 1px solid gray;box-sizing: border-box;top: 0;bottom: 0;left: 50%;z-index: -1;}#sk-container-id-24 div.sk-parallel-item {display: flex;flex-direction: column;z-index: 1;position: relative;background-color: white;}#sk-container-id-24 div.sk-parallel-item:first-child::after {align-self: flex-end;width: 50%;}#sk-container-id-24 div.sk-parallel-item:last-child::after {align-self: flex-start;width: 50%;}#sk-container-id-24 div.sk-parallel-item:only-child::after {width: 0;}#sk-container-id-24 div.sk-dashed-wrapped {border: 1px dashed gray;margin: 0 0.4em 0.5em 0.4em;box-sizing: border-box;padding-bottom: 0.4em;background-color: white;}#sk-container-id-24 div.sk-label label {font-family: monospace;font-weight: bold;display: inline-block;line-height: 1.2em;}#sk-container-id-24 div.sk-label-container {text-align: center;}#sk-container-id-24 div.sk-container {/* jupyter's `normalize.less` sets `[hidden] { display: none; }` but bootstrap.min.css set `[hidden] { display: none !important; }` so we also need the `!important` here to be able to override the default hidden behavior on the sphinx rendered scikit-learn.org. See: https://github.com/scikit-learn/scikit-learn/issues/21755 */display: inline-block !important;position: relative;}#sk-container-id-24 div.sk-text-repr-fallback {display: none;}</style><div id=\"sk-container-id-24\" class=\"sk-top-container\"><div class=\"sk-text-repr-fallback\"><pre>RandomForestClassifier(max_depth=10, max_leaf_nodes=50, max_samples=250,\n",
       "                       min_samples_leaf=10, min_samples_split=50,\n",
       "                       n_estimators=250, random_state=42)</pre><b>In a Jupyter environment, please rerun this cell to show the HTML representation or trust the notebook. <br />On GitHub, the HTML representation is unable to render, please try loading this page with nbviewer.org.</b></div><div class=\"sk-container\" hidden><div class=\"sk-item\"><div class=\"sk-estimator sk-toggleable\"><input class=\"sk-toggleable__control sk-hidden--visually\" id=\"sk-estimator-id-44\" type=\"checkbox\" checked><label for=\"sk-estimator-id-44\" class=\"sk-toggleable__label sk-toggleable__label-arrow\">RandomForestClassifier</label><div class=\"sk-toggleable__content\"><pre>RandomForestClassifier(max_depth=10, max_leaf_nodes=50, max_samples=250,\n",
       "                       min_samples_leaf=10, min_samples_split=50,\n",
       "                       n_estimators=250, random_state=42)</pre></div></div></div></div></div>"
      ],
      "text/plain": [
       "RandomForestClassifier(max_depth=10, max_leaf_nodes=50, max_samples=250,\n",
       "                       min_samples_leaf=10, min_samples_split=50,\n",
       "                       n_estimators=250, random_state=42)"
      ]
     },
     "execution_count": 62,
     "metadata": {},
     "output_type": "execute_result"
    }
   ],
   "source": [
    "final_model = grid_search.best_estimator_\n",
    "final_model"
   ]
  },
  {
   "cell_type": "markdown",
   "metadata": {},
   "source": [
    "We get the best RandomForestClassifier with parameter: max_depth=10, max_leaf_nodes=50, max_samples=250, min_samples_leaf=10, min_samples_split=50 n_estimators=250"
   ]
  },
  {
   "cell_type": "code",
   "execution_count": 63,
   "metadata": {},
   "outputs": [
    {
     "name": "stdout",
     "output_type": "stream",
     "text": [
      "Score on training set: 0.7856538516849623\n"
     ]
    }
   ],
   "source": [
    "y_pred = final_model.predict_proba(X_train)[:, 1]\n",
    "print(f\"Score on training set: {roc_auc_score(y_train, y_pred)}\")"
   ]
  },
  {
   "cell_type": "code",
   "execution_count": 64,
   "metadata": {},
   "outputs": [
    {
     "name": "stdout",
     "output_type": "stream",
     "text": [
      "Score on validation set: 0.7741750028745544\n"
     ]
    }
   ],
   "source": [
    "y_pred = final_model.predict_proba(X_val)[:, 1]\n",
    "print(f\"Score on validation set: {roc_auc_score(y_val, y_pred)}\")"
   ]
  },
  {
   "cell_type": "code",
   "execution_count": 65,
   "metadata": {},
   "outputs": [
    {
     "name": "stdout",
     "output_type": "stream",
     "text": [
      "Score on test set: 0.7396662387676509\n"
     ]
    }
   ],
   "source": [
    "y_pred = final_model.predict_proba(X_test)[:, 1]\n",
    "print(f\"Score on test set: {roc_auc_score(y_test, y_pred)}\")"
   ]
  },
  {
   "cell_type": "markdown",
   "metadata": {},
   "source": [
    "## Trying Alternate Model: XGBoost"
   ]
  },
  {
   "cell_type": "code",
   "execution_count": 66,
   "metadata": {},
   "outputs": [
    {
     "name": "stdout",
     "output_type": "stream",
     "text": [
      "Defaulting to user installation because normal site-packages is not writeable\n",
      "Collecting xgboost\n",
      "  Downloading xgboost-2.0.2-py3-none-manylinux2014_x86_64.whl.metadata (2.0 kB)\n",
      "Requirement already satisfied: numpy in /opt/conda/envs/ml-zoomcamp/lib/python3.9/site-packages (from xgboost) (1.26.0)\n",
      "Requirement already satisfied: scipy in /opt/conda/envs/ml-zoomcamp/lib/python3.9/site-packages (from xgboost) (1.11.3)\n",
      "Downloading xgboost-2.0.2-py3-none-manylinux2014_x86_64.whl (297.1 MB)\n",
      "\u001b[2K   \u001b[90m━━━━━━━━━━━━━━━━━━━━━━━━━━━━━━━━━━━━━━━\u001b[0m \u001b[32m297.1/297.1 MB\u001b[0m \u001b[31m672.5 kB/s\u001b[0m eta \u001b[36m0:00:00\u001b[0m00:01\u001b[0m00:10\u001b[0m\n",
      "\u001b[?25hInstalling collected packages: xgboost\n",
      "Successfully installed xgboost-2.0.2\n"
     ]
    }
   ],
   "source": [
    "!pip install xgboost"
   ]
  },
  {
   "cell_type": "code",
   "execution_count": 86,
   "metadata": {},
   "outputs": [
    {
     "name": "stdout",
     "output_type": "stream",
     "text": [
      "Fitting 5 folds for each of 30 candidates, totalling 150 fits\n"
     ]
    },
    {
     "name": "stdout",
     "output_type": "stream",
     "text": [
      "[CV 1/5] END eta=0.6, gamma=20, max_delta_step=4, max_depth=6, min_child_weight=1, tree_method=approx;, score=0.741 total time=   2.0s\n",
      "[CV 2/5] END eta=0.6, gamma=20, max_delta_step=4, max_depth=6, min_child_weight=1, tree_method=approx;, score=0.733 total time=   2.2s\n",
      "[CV 4/5] END eta=0.6, gamma=20, max_delta_step=4, max_depth=6, min_child_weight=1, tree_method=approx;, score=0.728 total time=   2.4s\n",
      "[CV 3/5] END eta=0.6, gamma=20, max_delta_step=4, max_depth=6, min_child_weight=1, tree_method=approx;, score=0.719 total time=   2.7s\n",
      "[CV 1/5] END eta=0.3, gamma=10, max_delta_step=10, max_depth=7, min_child_weight=1, tree_method=hist;, score=0.745 total time=   0.8s\n",
      "[CV 2/5] END eta=0.3, gamma=10, max_delta_step=10, max_depth=7, min_child_weight=1, tree_method=hist;, score=0.732 total time=   0.7s\n",
      "[CV 3/5] END eta=0.3, gamma=10, max_delta_step=10, max_depth=7, min_child_weight=1, tree_method=hist;, score=0.723 total time=   0.6s\n",
      "[CV 4/5] END eta=0.3, gamma=10, max_delta_step=10, max_depth=7, min_child_weight=1, tree_method=hist;, score=0.763 total time=   0.5s\n",
      "[CV 5/5] END eta=0.6, gamma=20, max_delta_step=4, max_depth=6, min_child_weight=1, tree_method=approx;, score=0.719 total time=   1.5s\n",
      "[CV 5/5] END eta=0.3, gamma=10, max_delta_step=10, max_depth=7, min_child_weight=1, tree_method=hist;, score=0.729 total time=   0.5s\n",
      "[CV 3/5] END eta=0, gamma=0, max_delta_step=8, max_depth=10, min_child_weight=10, tree_method=auto;, score=0.500 total time=   2.3s\n",
      "[CV 4/5] END eta=0, gamma=0, max_delta_step=8, max_depth=10, min_child_weight=10, tree_method=auto;, score=0.500 total time=   2.9s\n",
      "[CV 2/5] END eta=0, gamma=0, max_delta_step=8, max_depth=10, min_child_weight=10, tree_method=auto;, score=0.500 total time=   3.2s\n",
      "[CV 1/5] END eta=0, gamma=0, max_delta_step=8, max_depth=10, min_child_weight=10, tree_method=auto;, score=0.500 total time=   3.8s\n",
      "[CV 5/5] END eta=0, gamma=0, max_delta_step=8, max_depth=10, min_child_weight=10, tree_method=auto;, score=0.500 total time=   2.5s\n",
      "[CV 2/5] END eta=0, gamma=25, max_delta_step=1, max_depth=4, min_child_weight=1, tree_method=approx;, score=0.500 total time=   2.0s[CV 1/5] END eta=0, gamma=25, max_delta_step=1, max_depth=4, min_child_weight=1, tree_method=approx;, score=0.500 total time=   2.2s\n",
      "\n",
      "[CV 3/5] END eta=0, gamma=25, max_delta_step=1, max_depth=4, min_child_weight=1, tree_method=approx;, score=0.500 total time=   2.1s\n",
      "[CV 1/5] END eta=0.9, gamma=20, max_delta_step=2, max_depth=6, min_child_weight=5, tree_method=approx;, score=0.714 total time=   1.6s\n",
      "[CV 4/5] END eta=0, gamma=25, max_delta_step=1, max_depth=4, min_child_weight=1, tree_method=approx;, score=0.500 total time=   2.3s\n",
      "[CV 2/5] END eta=0.9, gamma=20, max_delta_step=2, max_depth=6, min_child_weight=5, tree_method=approx;, score=0.723 total time=   1.5s\n",
      "[CV 5/5] END eta=0, gamma=25, max_delta_step=1, max_depth=4, min_child_weight=1, tree_method=approx;, score=0.500 total time=   2.4s\n",
      "[CV 1/5] END eta=0.6, gamma=10, max_delta_step=4, max_depth=8, min_child_weight=10, tree_method=hist;, score=0.736 total time=   0.6s\n",
      "[CV 3/5] END eta=0.9, gamma=20, max_delta_step=2, max_depth=6, min_child_weight=5, tree_method=approx;, score=0.722 total time=   1.4s\n",
      "[CV 5/5] END eta=0.9, gamma=20, max_delta_step=2, max_depth=6, min_child_weight=5, tree_method=approx;, score=0.700 total time=   1.6s\n",
      "[CV 3/5] END eta=0.6, gamma=10, max_delta_step=4, max_depth=8, min_child_weight=10, tree_method=hist;, score=0.699 total time=   0.5s\n",
      "[CV 4/5] END eta=0.9, gamma=20, max_delta_step=2, max_depth=6, min_child_weight=5, tree_method=approx;, score=0.714 total time=   1.8s\n",
      "[CV 2/5] END eta=0.6, gamma=10, max_delta_step=4, max_depth=8, min_child_weight=10, tree_method=hist;, score=0.730 total time=   0.7s\n",
      "[CV 4/5] END eta=0.6, gamma=10, max_delta_step=4, max_depth=8, min_child_weight=10, tree_method=hist;, score=0.737 total time=   0.4s\n",
      "[CV 5/5] END eta=0.6, gamma=10, max_delta_step=4, max_depth=8, min_child_weight=10, tree_method=hist;, score=0.710 total time=   0.4s\n",
      "[CV 1/5] END eta=0.1, gamma=25, max_delta_step=3, max_depth=8, min_child_weight=1, tree_method=auto;, score=0.758 total time=   0.4s\n",
      "[CV 2/5] END eta=0.1, gamma=25, max_delta_step=3, max_depth=8, min_child_weight=1, tree_method=auto;, score=0.752 total time=   0.6s\n",
      "[CV 3/5] END eta=0.1, gamma=25, max_delta_step=3, max_depth=8, min_child_weight=1, tree_method=auto;, score=0.749 total time=   0.5s\n",
      "[CV 4/5] END eta=0.1, gamma=25, max_delta_step=3, max_depth=8, min_child_weight=1, tree_method=auto;, score=0.745 total time=   0.5s\n",
      "[CV 5/5] END eta=0.1, gamma=25, max_delta_step=3, max_depth=8, min_child_weight=1, tree_method=auto;, score=0.721 total time=   0.5s\n",
      "[CV 1/5] END eta=0.1, gamma=20, max_delta_step=7, max_depth=7, min_child_weight=5, tree_method=auto;, score=0.749 total time=   0.4s\n",
      "[CV 2/5] END eta=0.1, gamma=20, max_delta_step=7, max_depth=7, min_child_weight=5, tree_method=auto;, score=0.756 total time=   0.5s\n",
      "[CV 4/5] END eta=0.1, gamma=20, max_delta_step=7, max_depth=7, min_child_weight=5, tree_method=auto;, score=0.747 total time=   0.5s\n",
      "[CV 3/5] END eta=0.1, gamma=20, max_delta_step=7, max_depth=7, min_child_weight=5, tree_method=auto;, score=0.744 total time=   0.6s\n",
      "[CV 5/5] END eta=0.1, gamma=20, max_delta_step=7, max_depth=7, min_child_weight=5, tree_method=auto;, score=0.723 total time=   0.9s\n",
      "[CV 1/5] END eta=0.6, gamma=10, max_delta_step=10, max_depth=6, min_child_weight=1, tree_method=approx;, score=0.722 total time=   1.4s\n",
      "[CV 3/5] END eta=0.6, gamma=10, max_delta_step=10, max_depth=6, min_child_weight=1, tree_method=approx;, score=0.711 total time=   1.6s\n",
      "[CV 2/5] END eta=0.6, gamma=10, max_delta_step=10, max_depth=6, min_child_weight=1, tree_method=approx;, score=0.728 total time=   1.8s\n",
      "[CV 4/5] END eta=0.6, gamma=10, max_delta_step=10, max_depth=6, min_child_weight=1, tree_method=approx;, score=0.730 total time=   1.4s\n",
      "[CV 5/5] END eta=0.6, gamma=10, max_delta_step=10, max_depth=6, min_child_weight=1, tree_method=approx;, score=0.705 total time=   1.5s\n",
      "[CV 2/5] END eta=0, gamma=25, max_delta_step=10, max_depth=5, min_child_weight=1, tree_method=exact;, score=0.500 total time=   2.8s\n",
      "[CV 1/5] END eta=0, gamma=25, max_delta_step=10, max_depth=5, min_child_weight=1, tree_method=exact;, score=0.500 total time=   3.1s\n",
      "[CV 3/5] END eta=0, gamma=25, max_delta_step=10, max_depth=5, min_child_weight=1, tree_method=exact;, score=0.500 total time=   3.4s\n",
      "[CV 1/5] END eta=0.3, gamma=15, max_delta_step=10, max_depth=7, min_child_weight=1, tree_method=approx;, score=0.747 total time=   1.6s\n",
      "[CV 2/5] END eta=0.3, gamma=15, max_delta_step=10, max_depth=7, min_child_weight=1, tree_method=approx;, score=0.753 total time=   1.5s\n",
      "[CV 4/5] END eta=0, gamma=25, max_delta_step=10, max_depth=5, min_child_weight=1, tree_method=exact;, score=0.500 total time=   4.1s\n",
      "[CV 3/5] END eta=0.3, gamma=15, max_delta_step=10, max_depth=7, min_child_weight=1, tree_method=approx;, score=0.734 total time=   1.2s\n",
      "[CV 5/5] END eta=0, gamma=25, max_delta_step=10, max_depth=5, min_child_weight=1, tree_method=exact;, score=0.500 total time=   3.8s\n",
      "[CV 4/5] END eta=0.3, gamma=15, max_delta_step=10, max_depth=7, min_child_weight=1, tree_method=approx;, score=0.758 total time=   1.7s\n",
      "[CV 5/5] END eta=0.3, gamma=15, max_delta_step=10, max_depth=7, min_child_weight=1, tree_method=approx;, score=0.729 total time=   1.7s\n",
      "[CV 1/5] END eta=0.9, gamma=20, max_delta_step=3, max_depth=7, min_child_weight=5, tree_method=approx;, score=0.714 total time=   1.6s\n",
      "[CV 2/5] END eta=0.9, gamma=20, max_delta_step=3, max_depth=7, min_child_weight=5, tree_method=approx;, score=0.723 total time=   1.1s\n",
      "[CV 4/5] END eta=0.9, gamma=20, max_delta_step=3, max_depth=7, min_child_weight=5, tree_method=approx;, score=0.714 total time=   1.3s\n",
      "[CV 3/5] END eta=0.9, gamma=20, max_delta_step=3, max_depth=7, min_child_weight=5, tree_method=approx;, score=0.722 total time=   1.4s\n",
      "[CV 5/5] END eta=0.9, gamma=20, max_delta_step=3, max_depth=7, min_child_weight=5, tree_method=approx;, score=0.700 total time=   1.7s\n",
      "[CV 1/5] END eta=0, gamma=20, max_delta_step=2, max_depth=3, min_child_weight=10, tree_method=approx;, score=0.500 total time=   1.8s\n",
      "[CV 3/5] END eta=0, gamma=20, max_delta_step=2, max_depth=3, min_child_weight=10, tree_method=approx;, score=0.500 total time=   2.1s\n",
      "[CV 2/5] END eta=0, gamma=20, max_delta_step=2, max_depth=3, min_child_weight=10, tree_method=approx;, score=0.500 total time=   2.2s\n",
      "[CV 4/5] END eta=0, gamma=20, max_delta_step=2, max_depth=3, min_child_weight=10, tree_method=approx;, score=0.500 total time=   2.3s\n",
      "[CV 2/5] END eta=0.6, gamma=10, max_delta_step=8, max_depth=9, min_child_weight=1, tree_method=approx;, score=0.728 total time=   1.3s\n",
      "[CV 1/5] END eta=0.6, gamma=10, max_delta_step=8, max_depth=9, min_child_weight=1, tree_method=approx;, score=0.722 total time=   1.6s\n",
      "[CV 5/5] END eta=0, gamma=20, max_delta_step=2, max_depth=3, min_child_weight=10, tree_method=approx;, score=0.500 total time=   2.5s\n",
      "[CV 1/5] END eta=0.3, gamma=5, max_delta_step=7, max_depth=4, min_child_weight=10, tree_method=hist;, score=0.746 total time=   0.6s\n",
      "[CV 3/5] END eta=0.6, gamma=10, max_delta_step=8, max_depth=9, min_child_weight=1, tree_method=approx;, score=0.711 total time=   1.4s\n",
      "[CV 5/5] END eta=0.6, gamma=10, max_delta_step=8, max_depth=9, min_child_weight=1, tree_method=approx;, score=0.705 total time=   1.0s\n",
      "[CV 4/5] END eta=0.6, gamma=10, max_delta_step=8, max_depth=9, min_child_weight=1, tree_method=approx;, score=0.730 total time=   1.5s\n",
      "[CV 2/5] END eta=0.3, gamma=5, max_delta_step=7, max_depth=4, min_child_weight=10, tree_method=hist;, score=0.750 total time=   0.5s\n",
      "[CV 3/5] END eta=0.3, gamma=5, max_delta_step=7, max_depth=4, min_child_weight=10, tree_method=hist;, score=0.734 total time=   0.7s\n",
      "[CV 4/5] END eta=0.3, gamma=5, max_delta_step=7, max_depth=4, min_child_weight=10, tree_method=hist;, score=0.761 total time=   0.7s\n",
      "[CV 1/5] END eta=0.9, gamma=10, max_delta_step=5, max_depth=10, min_child_weight=1, tree_method=auto;, score=0.721 total time=   0.9s\n",
      "[CV 5/5] END eta=0.3, gamma=5, max_delta_step=7, max_depth=4, min_child_weight=10, tree_method=hist;, score=0.718 total time=   1.1s\n",
      "[CV 2/5] END eta=0.9, gamma=10, max_delta_step=5, max_depth=10, min_child_weight=1, tree_method=auto;, score=0.724 total time=   0.8s\n",
      "[CV 3/5] END eta=0.9, gamma=10, max_delta_step=5, max_depth=10, min_child_weight=1, tree_method=auto;, score=0.692 total time=   1.1s\n",
      "[CV 4/5] END eta=0.9, gamma=10, max_delta_step=5, max_depth=10, min_child_weight=1, tree_method=auto;, score=0.735 total time=   0.7s\n",
      "[CV 5/5] END eta=0.9, gamma=10, max_delta_step=5, max_depth=10, min_child_weight=1, tree_method=auto;, score=0.689 total time=   0.7s\n",
      "[CV 1/5] END eta=0.1, gamma=20, max_delta_step=8, max_depth=5, min_child_weight=10, tree_method=hist;, score=0.749 total time=   0.7s\n",
      "[CV 3/5] END eta=0.1, gamma=20, max_delta_step=8, max_depth=5, min_child_weight=10, tree_method=hist;, score=0.744 total time=   0.5s\n",
      "[CV 2/5] END eta=0.1, gamma=20, max_delta_step=8, max_depth=5, min_child_weight=10, tree_method=hist;, score=0.756 total time=   0.8s\n",
      "[CV 4/5] END eta=0.1, gamma=20, max_delta_step=8, max_depth=5, min_child_weight=10, tree_method=hist;, score=0.748 total time=   0.6s\n",
      "[CV 5/5] END eta=0.1, gamma=20, max_delta_step=8, max_depth=5, min_child_weight=10, tree_method=hist;, score=0.723 total time=   0.6s\n",
      "[CV 1/5] END eta=0.9, gamma=10, max_delta_step=0, max_depth=6, min_child_weight=1, tree_method=hist;, score=0.721 total time=   0.5s\n",
      "[CV 5/5] END eta=0.9, gamma=10, max_delta_step=0, max_depth=6, min_child_weight=1, tree_method=hist;, score=0.689 total time=   0.7s\n",
      "[CV 3/5] END eta=0.9, gamma=10, max_delta_step=0, max_depth=6, min_child_weight=1, tree_method=hist;, score=0.692 total time=   1.0s\n",
      "[CV 4/5] END eta=0.9, gamma=10, max_delta_step=0, max_depth=6, min_child_weight=1, tree_method=hist;, score=0.735 total time=   0.9s\n",
      "[CV 2/5] END eta=0.9, gamma=10, max_delta_step=0, max_depth=6, min_child_weight=1, tree_method=hist;, score=0.724 total time=   1.2s\n",
      "[CV 1/5] END eta=0.3, gamma=15, max_delta_step=1, max_depth=10, min_child_weight=1, tree_method=hist;, score=0.742 total time=   0.5s\n",
      "[CV 3/5] END eta=0.3, gamma=15, max_delta_step=1, max_depth=10, min_child_weight=1, tree_method=hist;, score=0.747 total time=   0.6s\n",
      "[CV 2/5] END eta=0.3, gamma=15, max_delta_step=1, max_depth=10, min_child_weight=1, tree_method=hist;, score=0.750 total time=   0.7s\n",
      "[CV 4/5] END eta=0.3, gamma=15, max_delta_step=1, max_depth=10, min_child_weight=1, tree_method=hist;, score=0.751 total time=   0.6s\n",
      "[CV 5/5] END eta=0.3, gamma=15, max_delta_step=1, max_depth=10, min_child_weight=1, tree_method=hist;, score=0.727 total time=   0.5s\n",
      "[CV 1/5] END eta=0.1, gamma=5, max_delta_step=9, max_depth=8, min_child_weight=5, tree_method=approx;, score=0.736 total time=   1.9s\n",
      "[CV 2/5] END eta=0.1, gamma=5, max_delta_step=9, max_depth=8, min_child_weight=5, tree_method=approx;, score=0.742 total time=   2.0s\n",
      "[CV 4/5] END eta=0.1, gamma=5, max_delta_step=9, max_depth=8, min_child_weight=5, tree_method=approx;, score=0.757 total time=   1.9s\n",
      "[CV 3/5] END eta=0.1, gamma=5, max_delta_step=9, max_depth=8, min_child_weight=5, tree_method=approx;, score=0.733 total time=   2.2s\n",
      "[CV 5/5] END eta=0.1, gamma=5, max_delta_step=9, max_depth=8, min_child_weight=5, tree_method=approx;, score=0.711 total time=   1.8s\n",
      "[CV 1/5] END eta=0, gamma=5, max_delta_step=6, max_depth=7, min_child_weight=5, tree_method=exact;, score=0.500 total time=   3.6s\n",
      "[CV 2/5] END eta=0, gamma=5, max_delta_step=6, max_depth=7, min_child_weight=5, tree_method=exact;, score=0.500 total time=   4.6s\n",
      "[CV 3/5] END eta=0, gamma=5, max_delta_step=6, max_depth=7, min_child_weight=5, tree_method=exact;, score=0.500 total time=   4.6s\n",
      "[CV 4/5] END eta=0, gamma=5, max_delta_step=6, max_depth=7, min_child_weight=5, tree_method=exact;, score=0.500 total time=   3.8s\n",
      "[CV 2/5] END eta=0, gamma=0, max_delta_step=8, max_depth=3, min_child_weight=1, tree_method=exact;, score=0.500 total time=   1.2s\n",
      "[CV 1/5] END eta=0, gamma=0, max_delta_step=8, max_depth=3, min_child_weight=1, tree_method=exact;, score=0.500 total time=   1.5s\n",
      "[CV 3/5] END eta=0, gamma=0, max_delta_step=8, max_depth=3, min_child_weight=1, tree_method=exact;, score=0.500 total time=   1.6s\n",
      "[CV 4/5] END eta=0, gamma=0, max_delta_step=8, max_depth=3, min_child_weight=1, tree_method=exact;, score=0.500 total time=   1.5s\n",
      "[CV 1/5] END eta=0.9, gamma=5, max_delta_step=5, max_depth=10, min_child_weight=1, tree_method=hist;, score=0.707 total time=   0.6s\n",
      "[CV 5/5] END eta=0, gamma=5, max_delta_step=6, max_depth=7, min_child_weight=5, tree_method=exact;, score=0.500 total time=   4.1s\n",
      "[CV 5/5] END eta=0, gamma=0, max_delta_step=8, max_depth=3, min_child_weight=1, tree_method=exact;, score=0.500 total time=   1.7s\n",
      "[CV 2/5] END eta=0.9, gamma=5, max_delta_step=5, max_depth=10, min_child_weight=1, tree_method=hist;, score=0.683 total time=   0.4s\n",
      "[CV 4/5] END eta=0.9, gamma=5, max_delta_step=5, max_depth=10, min_child_weight=1, tree_method=hist;, score=0.698 total time=   0.4s\n",
      "[CV 3/5] END eta=0.9, gamma=5, max_delta_step=5, max_depth=10, min_child_weight=1, tree_method=hist;, score=0.680 total time=   0.6s\n",
      "[CV 1/5] END eta=0.9, gamma=20, max_delta_step=6, max_depth=6, min_child_weight=5, tree_method=hist;, score=0.714 total time=   0.3s\n",
      "[CV 5/5] END eta=0.9, gamma=5, max_delta_step=5, max_depth=10, min_child_weight=1, tree_method=hist;, score=0.685 total time=   0.6s\n",
      "[CV 2/5] END eta=0.9, gamma=20, max_delta_step=6, max_depth=6, min_child_weight=5, tree_method=hist;, score=0.723 total time=   0.4s\n",
      "[CV 4/5] END eta=0.9, gamma=20, max_delta_step=6, max_depth=6, min_child_weight=5, tree_method=hist;, score=0.714 total time=   0.3s\n",
      "[CV 3/5] END eta=0.9, gamma=20, max_delta_step=6, max_depth=6, min_child_weight=5, tree_method=hist;, score=0.722 total time=   0.5s\n",
      "[CV 5/5] END eta=0.9, gamma=20, max_delta_step=6, max_depth=6, min_child_weight=5, tree_method=hist;, score=0.700 total time=   0.5s\n",
      "[CV 3/5] END eta=0.6, gamma=20, max_delta_step=1, max_depth=3, min_child_weight=5, tree_method=exact;, score=0.724 total time=   1.2s\n",
      "[CV 2/5] END eta=0.6, gamma=20, max_delta_step=1, max_depth=3, min_child_weight=5, tree_method=exact;, score=0.742 total time=   1.5s\n",
      "[CV 4/5] END eta=0.6, gamma=20, max_delta_step=1, max_depth=3, min_child_weight=5, tree_method=exact;, score=0.736 total time=   1.3s\n",
      "[CV 1/5] END eta=0.6, gamma=20, max_delta_step=1, max_depth=3, min_child_weight=5, tree_method=exact;, score=0.741 total time=   1.8s\n",
      "[CV 5/5] END eta=0.6, gamma=20, max_delta_step=1, max_depth=3, min_child_weight=5, tree_method=exact;, score=0.709 total time=   1.2s\n",
      "[CV 3/5] END eta=0, gamma=10, max_delta_step=3, max_depth=5, min_child_weight=10, tree_method=exact;, score=0.500 total time=   2.3s\n",
      "[CV 2/5] END eta=0, gamma=10, max_delta_step=3, max_depth=5, min_child_weight=10, tree_method=exact;, score=0.500 total time=   2.5s\n",
      "[CV 1/5] END eta=0, gamma=10, max_delta_step=3, max_depth=5, min_child_weight=10, tree_method=exact;, score=0.500 total time=   3.3s\n",
      "[CV 4/5] END eta=0, gamma=10, max_delta_step=3, max_depth=5, min_child_weight=10, tree_method=exact;, score=0.500 total time=   2.6s\n",
      "[CV 1/5] END eta=0, gamma=25, max_delta_step=0, max_depth=5, min_child_weight=5, tree_method=hist;, score=0.500 total time=   1.3s\n",
      "[CV 2/5] END eta=0, gamma=25, max_delta_step=0, max_depth=5, min_child_weight=5, tree_method=hist;, score=0.500 total time=   1.2s\n",
      "[CV 3/5] END eta=0, gamma=25, max_delta_step=0, max_depth=5, min_child_weight=5, tree_method=hist;, score=0.500 total time=   1.2s\n",
      "[CV 5/5] END eta=0, gamma=10, max_delta_step=3, max_depth=5, min_child_weight=10, tree_method=exact;, score=0.500 total time=   2.6s\n",
      "[CV 4/5] END eta=0, gamma=25, max_delta_step=0, max_depth=5, min_child_weight=5, tree_method=hist;, score=0.500 total time=   1.2s\n",
      "[CV 2/5] END eta=0, gamma=20, max_delta_step=8, max_depth=7, min_child_weight=10, tree_method=hist;, score=0.500 total time=   0.9s\n",
      "[CV 5/5] END eta=0, gamma=25, max_delta_step=0, max_depth=5, min_child_weight=5, tree_method=hist;, score=0.500 total time=   1.5s\n",
      "[CV 1/5] END eta=0, gamma=20, max_delta_step=8, max_depth=7, min_child_weight=10, tree_method=hist;, score=0.500 total time=   1.3s\n",
      "[CV 3/5] END eta=0, gamma=20, max_delta_step=8, max_depth=7, min_child_weight=10, tree_method=hist;, score=0.500 total time=   1.6s\n",
      "[CV 4/5] END eta=0, gamma=20, max_delta_step=8, max_depth=7, min_child_weight=10, tree_method=hist;, score=0.500 total time=   1.8s\n",
      "[CV 5/5] END eta=0, gamma=20, max_delta_step=8, max_depth=7, min_child_weight=10, tree_method=hist;, score=0.500 total time=   2.2s\n",
      "[CV 1/5] END eta=0.1, gamma=0, max_delta_step=0, max_depth=10, min_child_weight=1, tree_method=auto;, score=0.732 total time=   4.1s\n",
      "[CV 2/5] END eta=0.1, gamma=0, max_delta_step=0, max_depth=10, min_child_weight=1, tree_method=auto;, score=0.739 total time=   4.0s\n",
      "[CV 3/5] END eta=0.1, gamma=0, max_delta_step=0, max_depth=10, min_child_weight=1, tree_method=auto;, score=0.729 total time=   3.4s\n",
      "[CV 1/5] END eta=0.3, gamma=20, max_delta_step=7, max_depth=3, min_child_weight=1, tree_method=auto;, score=0.747 total time=   0.6s\n",
      "[CV 2/5] END eta=0.3, gamma=20, max_delta_step=7, max_depth=3, min_child_weight=1, tree_method=auto;, score=0.748 total time=   0.5s\n",
      "[CV 4/5] END eta=0.1, gamma=0, max_delta_step=0, max_depth=10, min_child_weight=1, tree_method=auto;, score=0.738 total time=   3.8s\n",
      "[CV 3/5] END eta=0.3, gamma=20, max_delta_step=7, max_depth=3, min_child_weight=1, tree_method=auto;, score=0.745 total time=   0.6s\n",
      "[CV 5/5] END eta=0.3, gamma=20, max_delta_step=7, max_depth=3, min_child_weight=1, tree_method=auto;, score=0.724 total time=   0.4s\n",
      "[CV 4/5] END eta=0.3, gamma=20, max_delta_step=7, max_depth=3, min_child_weight=1, tree_method=auto;, score=0.747 total time=   0.6s\n",
      "[CV 5/5] END eta=0.1, gamma=0, max_delta_step=0, max_depth=10, min_child_weight=1, tree_method=auto;, score=0.702 total time=   2.4s\n"
     ]
    },
    {
     "data": {
      "text/html": [
       "<style>#sk-container-id-30 {color: black;}#sk-container-id-30 pre{padding: 0;}#sk-container-id-30 div.sk-toggleable {background-color: white;}#sk-container-id-30 label.sk-toggleable__label {cursor: pointer;display: block;width: 100%;margin-bottom: 0;padding: 0.3em;box-sizing: border-box;text-align: center;}#sk-container-id-30 label.sk-toggleable__label-arrow:before {content: \"▸\";float: left;margin-right: 0.25em;color: #696969;}#sk-container-id-30 label.sk-toggleable__label-arrow:hover:before {color: black;}#sk-container-id-30 div.sk-estimator:hover label.sk-toggleable__label-arrow:before {color: black;}#sk-container-id-30 div.sk-toggleable__content {max-height: 0;max-width: 0;overflow: hidden;text-align: left;background-color: #f0f8ff;}#sk-container-id-30 div.sk-toggleable__content pre {margin: 0.2em;color: black;border-radius: 0.25em;background-color: #f0f8ff;}#sk-container-id-30 input.sk-toggleable__control:checked~div.sk-toggleable__content {max-height: 200px;max-width: 100%;overflow: auto;}#sk-container-id-30 input.sk-toggleable__control:checked~label.sk-toggleable__label-arrow:before {content: \"▾\";}#sk-container-id-30 div.sk-estimator input.sk-toggleable__control:checked~label.sk-toggleable__label {background-color: #d4ebff;}#sk-container-id-30 div.sk-label input.sk-toggleable__control:checked~label.sk-toggleable__label {background-color: #d4ebff;}#sk-container-id-30 input.sk-hidden--visually {border: 0;clip: rect(1px 1px 1px 1px);clip: rect(1px, 1px, 1px, 1px);height: 1px;margin: -1px;overflow: hidden;padding: 0;position: absolute;width: 1px;}#sk-container-id-30 div.sk-estimator {font-family: monospace;background-color: #f0f8ff;border: 1px dotted black;border-radius: 0.25em;box-sizing: border-box;margin-bottom: 0.5em;}#sk-container-id-30 div.sk-estimator:hover {background-color: #d4ebff;}#sk-container-id-30 div.sk-parallel-item::after {content: \"\";width: 100%;border-bottom: 1px solid gray;flex-grow: 1;}#sk-container-id-30 div.sk-label:hover label.sk-toggleable__label {background-color: #d4ebff;}#sk-container-id-30 div.sk-serial::before {content: \"\";position: absolute;border-left: 1px solid gray;box-sizing: border-box;top: 0;bottom: 0;left: 50%;z-index: 0;}#sk-container-id-30 div.sk-serial {display: flex;flex-direction: column;align-items: center;background-color: white;padding-right: 0.2em;padding-left: 0.2em;position: relative;}#sk-container-id-30 div.sk-item {position: relative;z-index: 1;}#sk-container-id-30 div.sk-parallel {display: flex;align-items: stretch;justify-content: center;background-color: white;position: relative;}#sk-container-id-30 div.sk-item::before, #sk-container-id-30 div.sk-parallel-item::before {content: \"\";position: absolute;border-left: 1px solid gray;box-sizing: border-box;top: 0;bottom: 0;left: 50%;z-index: -1;}#sk-container-id-30 div.sk-parallel-item {display: flex;flex-direction: column;z-index: 1;position: relative;background-color: white;}#sk-container-id-30 div.sk-parallel-item:first-child::after {align-self: flex-end;width: 50%;}#sk-container-id-30 div.sk-parallel-item:last-child::after {align-self: flex-start;width: 50%;}#sk-container-id-30 div.sk-parallel-item:only-child::after {width: 0;}#sk-container-id-30 div.sk-dashed-wrapped {border: 1px dashed gray;margin: 0 0.4em 0.5em 0.4em;box-sizing: border-box;padding-bottom: 0.4em;background-color: white;}#sk-container-id-30 div.sk-label label {font-family: monospace;font-weight: bold;display: inline-block;line-height: 1.2em;}#sk-container-id-30 div.sk-label-container {text-align: center;}#sk-container-id-30 div.sk-container {/* jupyter's `normalize.less` sets `[hidden] { display: none; }` but bootstrap.min.css set `[hidden] { display: none !important; }` so we also need the `!important` here to be able to override the default hidden behavior on the sphinx rendered scikit-learn.org. See: https://github.com/scikit-learn/scikit-learn/issues/21755 */display: inline-block !important;position: relative;}#sk-container-id-30 div.sk-text-repr-fallback {display: none;}</style><div id=\"sk-container-id-30\" class=\"sk-top-container\"><div class=\"sk-text-repr-fallback\"><pre>RandomizedSearchCV(cv=5,\n",
       "                   estimator=XGBClassifier(base_score=None, booster=None,\n",
       "                                           callbacks=None,\n",
       "                                           colsample_bylevel=None,\n",
       "                                           colsample_bynode=None,\n",
       "                                           colsample_bytree=None, device=None,\n",
       "                                           early_stopping_rounds=None,\n",
       "                                           enable_categorical=False,\n",
       "                                           eval_metric=None, feature_types=None,\n",
       "                                           gamma=None, grow_policy=None,\n",
       "                                           importance_type=None,\n",
       "                                           interaction_constraints=None,\n",
       "                                           learning_rate...\n",
       "                                           n_estimators=None, n_jobs=None,\n",
       "                                           nthread=8, num_parallel_tree=None, ...),\n",
       "                   n_iter=30, n_jobs=4,\n",
       "                   param_distributions={&#x27;eta&#x27;: [0, 0.1, 0.3, 0.6, 0.9],\n",
       "                                        &#x27;gamma&#x27;: [0, 5, 10, 15, 20, 25],\n",
       "                                        &#x27;max_delta_step&#x27;: [0, 1, 2, 3, 4, 5, 6,\n",
       "                                                           7, 8, 9, 10],\n",
       "                                        &#x27;max_depth&#x27;: [3, 4, 5, 6, 7, 8, 9, 10],\n",
       "                                        &#x27;min_child_weight&#x27;: [1, 5, 10],\n",
       "                                        &#x27;tree_method&#x27;: [&#x27;auto&#x27;, &#x27;exact&#x27;,\n",
       "                                                        &#x27;approx&#x27;, &#x27;hist&#x27;]},\n",
       "                   random_state=42, scoring=&#x27;roc_auc&#x27;, verbose=3)</pre><b>In a Jupyter environment, please rerun this cell to show the HTML representation or trust the notebook. <br />On GitHub, the HTML representation is unable to render, please try loading this page with nbviewer.org.</b></div><div class=\"sk-container\" hidden><div class=\"sk-item sk-dashed-wrapped\"><div class=\"sk-label-container\"><div class=\"sk-label sk-toggleable\"><input class=\"sk-toggleable__control sk-hidden--visually\" id=\"sk-estimator-id-56\" type=\"checkbox\" ><label for=\"sk-estimator-id-56\" class=\"sk-toggleable__label sk-toggleable__label-arrow\">RandomizedSearchCV</label><div class=\"sk-toggleable__content\"><pre>RandomizedSearchCV(cv=5,\n",
       "                   estimator=XGBClassifier(base_score=None, booster=None,\n",
       "                                           callbacks=None,\n",
       "                                           colsample_bylevel=None,\n",
       "                                           colsample_bynode=None,\n",
       "                                           colsample_bytree=None, device=None,\n",
       "                                           early_stopping_rounds=None,\n",
       "                                           enable_categorical=False,\n",
       "                                           eval_metric=None, feature_types=None,\n",
       "                                           gamma=None, grow_policy=None,\n",
       "                                           importance_type=None,\n",
       "                                           interaction_constraints=None,\n",
       "                                           learning_rate...\n",
       "                                           n_estimators=None, n_jobs=None,\n",
       "                                           nthread=8, num_parallel_tree=None, ...),\n",
       "                   n_iter=30, n_jobs=4,\n",
       "                   param_distributions={&#x27;eta&#x27;: [0, 0.1, 0.3, 0.6, 0.9],\n",
       "                                        &#x27;gamma&#x27;: [0, 5, 10, 15, 20, 25],\n",
       "                                        &#x27;max_delta_step&#x27;: [0, 1, 2, 3, 4, 5, 6,\n",
       "                                                           7, 8, 9, 10],\n",
       "                                        &#x27;max_depth&#x27;: [3, 4, 5, 6, 7, 8, 9, 10],\n",
       "                                        &#x27;min_child_weight&#x27;: [1, 5, 10],\n",
       "                                        &#x27;tree_method&#x27;: [&#x27;auto&#x27;, &#x27;exact&#x27;,\n",
       "                                                        &#x27;approx&#x27;, &#x27;hist&#x27;]},\n",
       "                   random_state=42, scoring=&#x27;roc_auc&#x27;, verbose=3)</pre></div></div></div><div class=\"sk-parallel\"><div class=\"sk-parallel-item\"><div class=\"sk-item\"><div class=\"sk-label-container\"><div class=\"sk-label sk-toggleable\"><input class=\"sk-toggleable__control sk-hidden--visually\" id=\"sk-estimator-id-57\" type=\"checkbox\" ><label for=\"sk-estimator-id-57\" class=\"sk-toggleable__label sk-toggleable__label-arrow\">estimator: XGBClassifier</label><div class=\"sk-toggleable__content\"><pre>XGBClassifier(base_score=None, booster=None, callbacks=None,\n",
       "              colsample_bylevel=None, colsample_bynode=None,\n",
       "              colsample_bytree=None, device=None, early_stopping_rounds=None,\n",
       "              enable_categorical=False, eval_metric=None, feature_types=None,\n",
       "              gamma=None, grow_policy=None, importance_type=None,\n",
       "              interaction_constraints=None, learning_rate=None, max_bin=None,\n",
       "              max_cat_threshold=None, max_cat_to_onehot=None,\n",
       "              max_delta_step=None, max_depth=None, max_leaves=None,\n",
       "              min_child_weight=None, missing=nan, monotone_constraints=None,\n",
       "              multi_strategy=None, n_estimators=None, n_jobs=None, nthread=8,\n",
       "              num_parallel_tree=None, ...)</pre></div></div></div><div class=\"sk-serial\"><div class=\"sk-item\"><div class=\"sk-estimator sk-toggleable\"><input class=\"sk-toggleable__control sk-hidden--visually\" id=\"sk-estimator-id-58\" type=\"checkbox\" ><label for=\"sk-estimator-id-58\" class=\"sk-toggleable__label sk-toggleable__label-arrow\">XGBClassifier</label><div class=\"sk-toggleable__content\"><pre>XGBClassifier(base_score=None, booster=None, callbacks=None,\n",
       "              colsample_bylevel=None, colsample_bynode=None,\n",
       "              colsample_bytree=None, device=None, early_stopping_rounds=None,\n",
       "              enable_categorical=False, eval_metric=None, feature_types=None,\n",
       "              gamma=None, grow_policy=None, importance_type=None,\n",
       "              interaction_constraints=None, learning_rate=None, max_bin=None,\n",
       "              max_cat_threshold=None, max_cat_to_onehot=None,\n",
       "              max_delta_step=None, max_depth=None, max_leaves=None,\n",
       "              min_child_weight=None, missing=nan, monotone_constraints=None,\n",
       "              multi_strategy=None, n_estimators=None, n_jobs=None, nthread=8,\n",
       "              num_parallel_tree=None, ...)</pre></div></div></div></div></div></div></div></div></div></div>"
      ],
      "text/plain": [
       "RandomizedSearchCV(cv=5,\n",
       "                   estimator=XGBClassifier(base_score=None, booster=None,\n",
       "                                           callbacks=None,\n",
       "                                           colsample_bylevel=None,\n",
       "                                           colsample_bynode=None,\n",
       "                                           colsample_bytree=None, device=None,\n",
       "                                           early_stopping_rounds=None,\n",
       "                                           enable_categorical=False,\n",
       "                                           eval_metric=None, feature_types=None,\n",
       "                                           gamma=None, grow_policy=None,\n",
       "                                           importance_type=None,\n",
       "                                           interaction_constraints=None,\n",
       "                                           learning_rate...\n",
       "                                           n_estimators=None, n_jobs=None,\n",
       "                                           nthread=8, num_parallel_tree=None, ...),\n",
       "                   n_iter=30, n_jobs=4,\n",
       "                   param_distributions={'eta': [0, 0.1, 0.3, 0.6, 0.9],\n",
       "                                        'gamma': [0, 5, 10, 15, 20, 25],\n",
       "                                        'max_delta_step': [0, 1, 2, 3, 4, 5, 6,\n",
       "                                                           7, 8, 9, 10],\n",
       "                                        'max_depth': [3, 4, 5, 6, 7, 8, 9, 10],\n",
       "                                        'min_child_weight': [1, 5, 10],\n",
       "                                        'tree_method': ['auto', 'exact',\n",
       "                                                        'approx', 'hist']},\n",
       "                   random_state=42, scoring='roc_auc', verbose=3)"
      ]
     },
     "execution_count": 86,
     "metadata": {},
     "output_type": "execute_result"
    }
   ],
   "source": [
    "from xgboost import XGBClassifier\n",
    "\n",
    "xgb_params = {\n",
    "    'min_child_weight': [1, 5, 10],\n",
    "    'max_depth': [3, 4, 5, 6, 7, 8, 9, 10],\n",
    "    'gamma': [0, 5, 10, 15, 20, 25],\n",
    "    'max_delta_step': [0, 1, 2, 3, 4, 5, 6, 7, 8, 9, 10],\n",
    "    'eta': [0, 0.1, 0.3, 0.6, 0.9],\n",
    "    'tree_method': ['auto', 'exact', 'approx', 'hist']\n",
    "}\n",
    "\n",
    "xgb = XGBClassifier(objective='binary:logistic', nthread=8, seed=1, verbosity=1)\n",
    "random_search = RandomizedSearchCV(\n",
    "    xgb,\n",
    "    param_distributions=xgb_params,\n",
    "    n_iter=30,\n",
    "    scoring='roc_auc',\n",
    "    n_jobs=4, cv=5, verbose=3, random_state=42\n",
    ")\n",
    "\n",
    "random_search.fit(X_train, y_train)"
   ]
  },
  {
   "cell_type": "code",
   "execution_count": 87,
   "metadata": {},
   "outputs": [
    {
     "data": {
      "text/plain": [
       "{'gamma': 25,\n",
       " 'max_delta_step': 3,\n",
       " 'max_depth': 8,\n",
       " 'min_child_weight': 1,\n",
       " 'tree_method': 'auto',\n",
       " 'eta': 0.1}"
      ]
     },
     "execution_count": 87,
     "metadata": {},
     "output_type": "execute_result"
    }
   ],
   "source": [
    "final_model = random_search.best_estimator_\n",
    "{\n",
    "    key: final_model.get_params()[key]\n",
    "    for key in final_model.get_params()\n",
    "    if key in xgb_params\n",
    "}"
   ]
  },
  {
   "cell_type": "code",
   "execution_count": 88,
   "metadata": {},
   "outputs": [
    {
     "name": "stdout",
     "output_type": "stream",
     "text": [
      "Score on training set: 0.7765537366377451\n"
     ]
    }
   ],
   "source": [
    "y_pred = final_model.predict_proba(X_train)[:, 1]\n",
    "print(f\"Score on training set: {roc_auc_score(y_train, y_pred)}\")"
   ]
  },
  {
   "cell_type": "code",
   "execution_count": 89,
   "metadata": {},
   "outputs": [
    {
     "name": "stdout",
     "output_type": "stream",
     "text": [
      "Score on validation set: 0.748888505614963\n"
     ]
    }
   ],
   "source": [
    "y_pred = final_model.predict_proba(X_val)[:, 1]\n",
    "print(f\"Score on validation set: {roc_auc_score(y_val, y_pred)}\")"
   ]
  },
  {
   "cell_type": "code",
   "execution_count": 90,
   "metadata": {},
   "outputs": [
    {
     "name": "stdout",
     "output_type": "stream",
     "text": [
      "Score on test set: 0.7249831896815209\n"
     ]
    }
   ],
   "source": [
    "y_pred = final_model.predict_proba(X_test)[:, 1]\n",
    "print(f\"Score on test set: {roc_auc_score(y_test, y_pred)}\")"
   ]
  },
  {
   "cell_type": "markdown",
   "metadata": {},
   "source": [
    "## Result of the Experiment"
   ]
  },
  {
   "cell_type": "code",
   "execution_count": 101,
   "metadata": {},
   "outputs": [
    {
     "data": {
      "text/html": [
       "<div>\n",
       "<style scoped>\n",
       "    .dataframe tbody tr th:only-of-type {\n",
       "        vertical-align: middle;\n",
       "    }\n",
       "\n",
       "    .dataframe tbody tr th {\n",
       "        vertical-align: top;\n",
       "    }\n",
       "\n",
       "    .dataframe thead th {\n",
       "        text-align: right;\n",
       "    }\n",
       "</style>\n",
       "<table border=\"1\" class=\"dataframe\">\n",
       "  <thead>\n",
       "    <tr style=\"text-align: right;\">\n",
       "      <th></th>\n",
       "      <th>Training Approach</th>\n",
       "      <th>ROC-AUC on Training Set</th>\n",
       "      <th>ROC-AUC on Validation Set</th>\n",
       "      <th>ROC-AUC on Test Set</th>\n",
       "    </tr>\n",
       "  </thead>\n",
       "  <tbody>\n",
       "    <tr>\n",
       "      <th>0</th>\n",
       "      <td>Untuned SGDClassifier</td>\n",
       "      <td>0.515561</td>\n",
       "      <td>0.525430</td>\n",
       "      <td>0.503423</td>\n",
       "    </tr>\n",
       "    <tr>\n",
       "      <th>1</th>\n",
       "      <td>Tuned SGDClassifier</td>\n",
       "      <td>0.690540</td>\n",
       "      <td>0.694320</td>\n",
       "      <td>0.649276</td>\n",
       "    </tr>\n",
       "    <tr>\n",
       "      <th>2</th>\n",
       "      <td>Untuned RandomForestClassifier</td>\n",
       "      <td>1.000000</td>\n",
       "      <td>0.762830</td>\n",
       "      <td>0.743102</td>\n",
       "    </tr>\n",
       "    <tr>\n",
       "      <th>3</th>\n",
       "      <td>Tuned RandomForestClassfier</td>\n",
       "      <td>0.785654</td>\n",
       "      <td>0.774175</td>\n",
       "      <td>0.739666</td>\n",
       "    </tr>\n",
       "    <tr>\n",
       "      <th>4</th>\n",
       "      <td>Tuned XGBoost</td>\n",
       "      <td>0.776554</td>\n",
       "      <td>0.748889</td>\n",
       "      <td>0.724983</td>\n",
       "    </tr>\n",
       "  </tbody>\n",
       "</table>\n",
       "</div>"
      ],
      "text/plain": [
       "                Training Approach  ROC-AUC on Training Set  \\\n",
       "0           Untuned SGDClassifier                 0.515561   \n",
       "1             Tuned SGDClassifier                 0.690540   \n",
       "2  Untuned RandomForestClassifier                 1.000000   \n",
       "3     Tuned RandomForestClassfier                 0.785654   \n",
       "4                   Tuned XGBoost                 0.776554   \n",
       "\n",
       "   ROC-AUC on Validation Set  ROC-AUC on Test Set  \n",
       "0                   0.525430             0.503423  \n",
       "1                   0.694320             0.649276  \n",
       "2                   0.762830             0.743102  \n",
       "3                   0.774175             0.739666  \n",
       "4                   0.748889             0.724983  "
      ]
     },
     "execution_count": 101,
     "metadata": {},
     "output_type": "execute_result"
    }
   ],
   "source": [
    "res = pd.DataFrame({\n",
    "    \"Training Approach\": [\n",
    "        \"Untuned SGDClassifier\",\n",
    "        \"Tuned SGDClassifier\",\n",
    "        \"Untuned RandomForestClassifier\",\n",
    "        \"Tuned RandomForestClassfier\",\n",
    "        \"Tuned XGBoost\"\n",
    "    ],\n",
    "    \"ROC-AUC on Training Set\": [\n",
    "        0.5155613345477207,\n",
    "        0.6905403623987345,\n",
    "        1.0,\n",
    "        0.7856538516849623,\n",
    "        0.7765537366377451\n",
    "    ],\n",
    "    \"ROC-AUC on Validation Set\": [\n",
    "        0.5254302249817945,\n",
    "        0.6943198804185352,\n",
    "        0.7628300946686597,\n",
    "        0.7741750028745544,\n",
    "        0.748888505614963\n",
    "    ],\n",
    "    \"ROC-AUC on Test Set\": [\n",
    "        0.5034231921266581,\n",
    "        0.6492756280946268,\n",
    "        0.7431016565804756,\n",
    "        0.7396662387676509,\n",
    "        0.7249831896815209\n",
    "    ],\n",
    "})\n",
    "res"
   ]
  },
  {
   "cell_type": "markdown",
   "metadata": {},
   "source": [
    "  > Summary:**Untuned RandomForestClassifier** gives the best ROC-AUC on the Test-Set while **Tuned RandomForestClassifier** gives the best ROC-AUC in validation test. However, the **Untuned RandomForestClassifier** tend to be overfitting. \n",
    "  \n",
    "  > So, we'll take the Tuned RandomForestClassifier as model we will use since it doesn't give an overfitting and has a best performance in the validation set\n",
    "\n",
    "\n"
   ]
  },
  {
   "cell_type": "markdown",
   "metadata": {},
   "source": [
    "Choosen model is:\n",
    "\n",
    "```python\n",
    "model = RandomForestClassifier(\n",
    "  max_depth=10, max_leaf_nodes=50, max_samples=250,\n",
    "  min_samples_leaf=10, min_samples_split=50,\n",
    "  n_estimators=250, random_state=42\n",
    ")\n",
    "```"
   ]
  }
 ],
 "metadata": {
  "kernelspec": {
   "display_name": "ml-zoomcamp",
   "language": "python",
   "name": "python3"
  },
  "language_info": {
   "codemirror_mode": {
    "name": "ipython",
    "version": 3
   },
   "file_extension": ".py",
   "mimetype": "text/x-python",
   "name": "python",
   "nbconvert_exporter": "python",
   "pygments_lexer": "ipython3",
   "version": "3.9.18"
  }
 },
 "nbformat": 4,
 "nbformat_minor": 2
}
