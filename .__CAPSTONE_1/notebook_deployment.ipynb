{
 "cells": [
  {
   "cell_type": "markdown",
   "metadata": {},
   "source": [
    "# Machine Learning Model Deployment: Predict if Today is Raining or Drizzle"
   ]
  },
  {
   "cell_type": "markdown",
   "metadata": {},
   "source": [
    "## Trainer Script"
   ]
  },
  {
   "cell_type": "code",
   "execution_count": 8,
   "metadata": {},
   "outputs": [
    {
     "name": "stdout",
     "output_type": "stream",
     "text": [
      "11:59:33 INFO:Loading dataset\n",
      "11:59:33 INFO:Setting column `rain_drizzle` as target column\n",
      "11:59:33 INFO:Filling missing value...\n",
      "11:59:33 INFO:Performing imbalance class removal by RandomUnderSampler\n",
      "11:59:33 INFO:Non used feature for this training session is: ['date', 'year', 'mo', 'da', 'avg_wind_speed_prev_1_dayavg_dew_point_prev_1_dayavg_sea_level_point_prev_1_dayavg_temp_prev_1_dayavg_temp_prev_3_dayavg_dew_point_prev_3_dayavg_sea_level_point_prev_3_day']\n",
      "11:59:33 INFO:Preparing the ready to use dataset\n",
      "11:59:33 INFO:Performing train test split with ratio of 60/20/20\n",
      "11:59:33 INFO:Converting train/test/val feature into dictvectorizer\n",
      "11:59:33 INFO:Training RandomForestClassifier Model\n",
      "11:59:34 INFO:Succesfully trained model\n",
      "11:59:34 INFO:Score on validation set: 0.7741750028745544\n",
      "11:59:34 INFO:Score on test set: 0.7396662387676509\n",
      "11:59:34 INFO:Saving model into ./model/final_model_.bin\n",
      "11:59:34 INFO:Saving model into ./model/final_dv.bin\n"
     ]
    }
   ],
   "source": [
    "!python train.py"
   ]
  },
  {
   "cell_type": "code",
   "execution_count": null,
   "metadata": {},
   "outputs": [],
   "source": []
  }
 ],
 "metadata": {
  "kernelspec": {
   "display_name": "ml-zoomcamp",
   "language": "python",
   "name": "python3"
  },
  "language_info": {
   "codemirror_mode": {
    "name": "ipython",
    "version": 3
   },
   "file_extension": ".py",
   "mimetype": "text/x-python",
   "name": "python",
   "nbconvert_exporter": "python",
   "pygments_lexer": "ipython3",
   "version": "3.9.18"
  }
 },
 "nbformat": 4,
 "nbformat_minor": 2
}
